{
 "cells": [
  {
   "cell_type": "code",
   "execution_count": 48,
   "id": "initial_id",
   "metadata": {
    "collapsed": true,
    "ExecuteTime": {
     "end_time": "2024-06-20T13:09:35.343155100Z",
     "start_time": "2024-06-20T13:09:35.239502800Z"
    }
   },
   "outputs": [],
   "source": [
    "import pandas as pd\n",
    "import numpy as np\n",
    "import matplotlib.pyplot as plt\n",
    "from sklearn.ensemble import VotingClassifier\n",
    "from sklearn.linear_model import LogisticRegression\n",
    "from sklearn.svm import SVC\n",
    "from sklearn.ensemble import RandomForestClassifier\n",
    "from sklearn.model_selection import train_test_split\n",
    "from sklearn.preprocessing import StandardScaler, MinMaxScaler\n",
    "from sklearn.model_selection import cross_val_score\n",
    "from sklearn.naive_bayes import GaussianNB\n",
    "from sklearn.tree import DecisionTreeClassifier\n",
    "from sklearn.neural_network import MLPClassifier\n",
    "from sklearn.neighbors import KNeighborsClassifier\n",
    "\n"
   ]
  },
  {
   "cell_type": "code",
   "outputs": [
    {
     "data": {
      "text/plain": "        stag  event  gender   age  industry  profession  traffic  coach  \\\n0   7.030801      1       1  35.0         0           0        1      0   \n1  22.965092      1       1  33.0         0           0        1      0   \n2  15.934292      1       0  35.0         1           0        1      0   \n3  15.934292      1       0  35.0         1           0        1      0   \n4   8.410678      1       1  32.0         0           0        0      1   \n\n   head_gender  greywage  way  extraversion  independ  selfcontrol  anxiety  \\\n0            0         1    1           6.2       4.1          5.7      7.1   \n1            1         1    1           6.2       4.1          5.7      7.1   \n2            1         1    1           6.2       6.2          2.6      4.8   \n3            1         1    1           5.4       7.6          4.9      2.5   \n4            0         1    1           3.0       4.1          8.0      7.1   \n\n   novator  \n0      8.3  \n1      8.3  \n2      8.3  \n3      6.7  \n4      3.7  ",
      "text/html": "<div>\n<style scoped>\n    .dataframe tbody tr th:only-of-type {\n        vertical-align: middle;\n    }\n\n    .dataframe tbody tr th {\n        vertical-align: top;\n    }\n\n    .dataframe thead th {\n        text-align: right;\n    }\n</style>\n<table border=\"1\" class=\"dataframe\">\n  <thead>\n    <tr style=\"text-align: right;\">\n      <th></th>\n      <th>stag</th>\n      <th>event</th>\n      <th>gender</th>\n      <th>age</th>\n      <th>industry</th>\n      <th>profession</th>\n      <th>traffic</th>\n      <th>coach</th>\n      <th>head_gender</th>\n      <th>greywage</th>\n      <th>way</th>\n      <th>extraversion</th>\n      <th>independ</th>\n      <th>selfcontrol</th>\n      <th>anxiety</th>\n      <th>novator</th>\n    </tr>\n  </thead>\n  <tbody>\n    <tr>\n      <th>0</th>\n      <td>7.030801</td>\n      <td>1</td>\n      <td>1</td>\n      <td>35.0</td>\n      <td>0</td>\n      <td>0</td>\n      <td>1</td>\n      <td>0</td>\n      <td>0</td>\n      <td>1</td>\n      <td>1</td>\n      <td>6.2</td>\n      <td>4.1</td>\n      <td>5.7</td>\n      <td>7.1</td>\n      <td>8.3</td>\n    </tr>\n    <tr>\n      <th>1</th>\n      <td>22.965092</td>\n      <td>1</td>\n      <td>1</td>\n      <td>33.0</td>\n      <td>0</td>\n      <td>0</td>\n      <td>1</td>\n      <td>0</td>\n      <td>1</td>\n      <td>1</td>\n      <td>1</td>\n      <td>6.2</td>\n      <td>4.1</td>\n      <td>5.7</td>\n      <td>7.1</td>\n      <td>8.3</td>\n    </tr>\n    <tr>\n      <th>2</th>\n      <td>15.934292</td>\n      <td>1</td>\n      <td>0</td>\n      <td>35.0</td>\n      <td>1</td>\n      <td>0</td>\n      <td>1</td>\n      <td>0</td>\n      <td>1</td>\n      <td>1</td>\n      <td>1</td>\n      <td>6.2</td>\n      <td>6.2</td>\n      <td>2.6</td>\n      <td>4.8</td>\n      <td>8.3</td>\n    </tr>\n    <tr>\n      <th>3</th>\n      <td>15.934292</td>\n      <td>1</td>\n      <td>0</td>\n      <td>35.0</td>\n      <td>1</td>\n      <td>0</td>\n      <td>1</td>\n      <td>0</td>\n      <td>1</td>\n      <td>1</td>\n      <td>1</td>\n      <td>5.4</td>\n      <td>7.6</td>\n      <td>4.9</td>\n      <td>2.5</td>\n      <td>6.7</td>\n    </tr>\n    <tr>\n      <th>4</th>\n      <td>8.410678</td>\n      <td>1</td>\n      <td>1</td>\n      <td>32.0</td>\n      <td>0</td>\n      <td>0</td>\n      <td>0</td>\n      <td>1</td>\n      <td>0</td>\n      <td>1</td>\n      <td>1</td>\n      <td>3.0</td>\n      <td>4.1</td>\n      <td>8.0</td>\n      <td>7.1</td>\n      <td>3.7</td>\n    </tr>\n  </tbody>\n</table>\n</div>"
     },
     "execution_count": 49,
     "metadata": {},
     "output_type": "execute_result"
    }
   ],
   "source": [
    "file = pd.read_csv('df2_encoded.csv')\n",
    "df = pd.DataFrame(file)\n",
    "df.head()"
   ],
   "metadata": {
    "collapsed": false,
    "ExecuteTime": {
     "end_time": "2024-06-20T13:09:35.579798400Z",
     "start_time": "2024-06-20T13:09:35.371852700Z"
    }
   },
   "id": "481ef1d4379f2c9",
   "execution_count": 49
  },
  {
   "cell_type": "code",
   "outputs": [],
   "source": [
    "\n",
    "\n",
    "target = df['event']\n",
    "\n",
    "# Drop the target variable from the features\n",
    "features = df.drop('event', axis=1)\n",
    "\n",
    "# Split the data into training and testing sets\n",
    "X_train, X_test, y_train, y_test = train_test_split(features, target, test_size=0.2, random_state=42, stratify=target)\n",
    "\n",
    "clf1 = RandomForestClassifier(bootstrap=False, criterion='entropy', max_features=6, min_samples_leaf=2, min_samples_split=5, n_estimators=30,\n",
    "random_state=42)\n",
    "clf2 = GaussianNB(var_smoothing=1e-13)\n",
    "clf3 = LogisticRegression(max_iter = 1000, random_state = 42, C=1, solver='sag', penalty='l2')\n",
    "clf4 = DecisionTreeClassifier(min_samples_split=2, min_samples_leaf=1)\n",
    "clf5 = MLPClassifier(max_iter=10000, learning_rate_init=0.01, random_state=42 ,tol=1e-3, early_stopping=True, activation='tanh', alpha= 0.0001, hidden_layer_sizes= (30,), learning_rate= 'constant', solver= 'adam')\n",
    "clf6 = KNeighborsClassifier(algorithm= 'auto', leaf_size= 10, metric= 'manhattan', n_neighbors= 5, weights= 'distance')\n",
    "clf7 = SVC(decision_function_shape= 'ovo', kernel= 'linear', probability=True)\n",
    "\n",
    "voting_clf = VotingClassifier(\n",
    "    estimators=[('RandomForestClassifier', clf1), ('GaussianNB', clf2), ('LogisticRegression', clf3), ('DecisionTreeClassifier', clf4), ('MLPClassifier', clf5), ('KNeighborsClassifier', clf6), ('SVC', clf7)],\n",
    "    voting='soft'  # Use 'soft' for probabilities, 'hard' for predictions\n",
    ")\n"
   ],
   "metadata": {
    "collapsed": false,
    "ExecuteTime": {
     "end_time": "2024-06-20T13:23:26.510428500Z",
     "start_time": "2024-06-20T13:23:26.440307700Z"
    }
   },
   "id": "ceb65df1b4740059",
   "execution_count": 58
  },
  {
   "cell_type": "code",
   "outputs": [],
   "source": [
    "def myvoting(X_train, X_test, y_train, y_test):\n",
    "    # Define the classifiers to be included in the ensemble\n",
    "\n",
    "    # Fit the ensemble classifier to the data\n",
    "    voting_clf.fit(X_train, y_train)\n",
    "    voting_clf.score(X_train, y_train)\n",
    "    voting_clf.score(X_test, y_test)\n",
    "    print(f\"Accuracy Training: {voting_clf.score(X_train, y_train).round(2)}\")\n",
    "    print(f\"Accuracy Testing: {voting_clf.score(X_test, y_test).round(2)}\")\n",
    "    print(\"*\" * 50)\n",
    "\n",
    "        "
   ],
   "metadata": {
    "collapsed": false,
    "ExecuteTime": {
     "end_time": "2024-06-20T13:27:08.152822900Z",
     "start_time": "2024-06-20T13:27:08.123194300Z"
    }
   },
   "id": "f96dc20a5e800a58",
   "execution_count": 63
  },
  {
   "cell_type": "markdown",
   "source": [
    "# Call the function for the training and testing data no Scaling"
   ],
   "metadata": {
    "collapsed": false
   },
   "id": "7abd7a7158078563"
  },
  {
   "cell_type": "markdown",
   "source": [],
   "metadata": {
    "collapsed": false
   },
   "id": "32f287d31f91d626"
  },
  {
   "cell_type": "code",
   "outputs": [
    {
     "name": "stdout",
     "output_type": "stream",
     "text": [
      "Accuracy Training: 1.0\n",
      "Accuracy Testing: 0.64\n",
      "**************************************************\n"
     ]
    }
   ],
   "source": [
    "myvoting(X_train, X_test, y_train, y_test)\n"
   ],
   "metadata": {
    "collapsed": false,
    "ExecuteTime": {
     "end_time": "2024-06-20T13:27:22.174363100Z",
     "start_time": "2024-06-20T13:27:12.987190700Z"
    }
   },
   "id": "5af376faeb2359ef",
   "execution_count": 64
  },
  {
   "cell_type": "markdown",
   "source": [
    "# Call the function for the training and testing data with Standard Scaling"
   ],
   "metadata": {
    "collapsed": false
   },
   "id": "858eb859edc8f798"
  },
  {
   "cell_type": "code",
   "outputs": [
    {
     "name": "stdout",
     "output_type": "stream",
     "text": [
      "Accuracy Training: 1.0\n",
      "Accuracy Testing: 0.62\n",
      "**************************************************\n"
     ]
    }
   ],
   "source": [
    "scalerS = StandardScaler()\n",
    "X_train2 = scalerS.fit_transform(X_train)\n",
    "X_test2 = scalerS.fit_transform(X_test)\n",
    "\n",
    "myvoting(X_train2, X_test2, y_train, y_test)"
   ],
   "metadata": {
    "collapsed": false,
    "ExecuteTime": {
     "end_time": "2024-06-20T13:31:12.968286Z",
     "start_time": "2024-06-20T13:31:11.653827300Z"
    }
   },
   "id": "fc70018b0321940d",
   "execution_count": 65
  },
  {
   "cell_type": "markdown",
   "source": [
    "# Call the function for the training and testing data with MinMax Scaling\n"
   ],
   "metadata": {
    "collapsed": false
   },
   "id": "1d6d779251d3b6a6"
  },
  {
   "cell_type": "code",
   "outputs": [
    {
     "name": "stdout",
     "output_type": "stream",
     "text": [
      "Accuracy Training: 1.0\n",
      "Accuracy Testing: 0.61\n",
      "**************************************************\n"
     ]
    }
   ],
   "source": [
    "\n",
    "scalerM = MinMaxScaler()\n",
    "X_train3 = scalerM.fit_transform(X_train)\n",
    "X_test3 = scalerM.fit_transform(X_test)\n",
    "\n",
    "myvoting(X_train3, X_test3, y_train, y_test)"
   ],
   "metadata": {
    "collapsed": false,
    "ExecuteTime": {
     "end_time": "2024-06-20T13:31:18.223642400Z",
     "start_time": "2024-06-20T13:31:16.689335600Z"
    }
   },
   "id": "5b352567fb31c63b",
   "execution_count": 66
  }
 ],
 "metadata": {
  "kernelspec": {
   "display_name": "Python 3",
   "language": "python",
   "name": "python3"
  },
  "language_info": {
   "codemirror_mode": {
    "name": "ipython",
    "version": 2
   },
   "file_extension": ".py",
   "mimetype": "text/x-python",
   "name": "python",
   "nbconvert_exporter": "python",
   "pygments_lexer": "ipython2",
   "version": "2.7.6"
  }
 },
 "nbformat": 4,
 "nbformat_minor": 5
}
