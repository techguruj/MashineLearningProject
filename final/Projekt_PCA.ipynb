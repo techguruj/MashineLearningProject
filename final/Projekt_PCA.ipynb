{
 "cells": [
  {
   "cell_type": "code",
   "execution_count": 21,
   "id": "initial_id",
   "metadata": {
    "collapsed": true,
    "ExecuteTime": {
     "end_time": "2024-06-20T09:31:09.815330200Z",
     "start_time": "2024-06-20T09:31:09.715150200Z"
    }
   },
   "outputs": [],
   "source": [
    "from sklearn.decomposition import PCA\n",
    "from sklearn.preprocessing import StandardScaler, MinMaxScaler\n",
    "import pandas as pd\n",
    "import numpy as np\n",
    "import matplotlib.pyplot as plt\n",
    "# Assuming 'df' is your DataFrame loaded from 'df2_encoded.csv'\n",
    "file = pd.read_csv('df2_encoded.csv')\n",
    "df = pd.DataFrame(file)\n",
    "df.head()\n",
    "# Separate the features and the target variable, if you have one\n",
    "# For this example, let's assume all columns except 'event' are features\n",
    "X = df.drop('event', axis=1)\n",
    "y = df['event']\n",
    "\n",
    "\n",
    "\n"
   ]
  },
  {
   "cell_type": "markdown",
   "source": [
    "# Standard Scaling"
   ],
   "metadata": {
    "collapsed": false
   },
   "id": "5b4ab907461b14ba"
  },
  {
   "cell_type": "code",
   "outputs": [
    {
     "name": "stdout",
     "output_type": "stream",
     "text": [
      "Explained variance ratio: [0.14 0.13]\n",
      "Explained variance ratio: [0.14 0.13 0.1 ]\n",
      "Explained variance ratio: [0.14 0.13 0.1  0.09]\n",
      "Explained variance ratio: [0.14 0.13 0.1  0.09 0.07]\n",
      "Explained variance ratio: [0.14 0.13 0.1  0.09 0.07 0.07]\n",
      "Explained variance ratio: [0.14 0.13 0.1  0.09 0.07 0.07 0.07]\n",
      "Explained variance ratio: [0.14 0.13 0.1  0.09 0.07 0.07 0.07 0.06]\n",
      "Explained variance ratio: [0.14 0.13 0.1  0.09 0.07 0.07 0.07 0.06 0.06]\n",
      "Explained variance ratio: [0.14 0.13 0.1  0.09 0.07 0.07 0.07 0.06 0.06 0.05]\n",
      "Explained variance ratio: [0.14 0.13 0.1  0.09 0.07 0.07 0.07 0.06 0.06 0.05 0.05]\n",
      "Explained variance ratio: [0.14 0.13 0.1  0.09 0.07 0.07 0.07 0.06 0.06 0.05 0.05 0.04]\n",
      "Explained variance ratio: [0.14 0.13 0.1  0.09 0.07 0.07 0.07 0.06 0.06 0.05 0.05 0.04 0.04]\n",
      "Explained variance ratio: [0.14 0.13 0.1  0.09 0.07 0.07 0.07 0.06 0.06 0.05 0.05 0.04 0.04 0.03]\n",
      "Explained variance ratio: [0.14 0.13 0.1  0.09 0.07 0.07 0.07 0.06 0.06 0.05 0.05 0.04 0.04 0.03\n",
      " 0.01]\n"
     ]
    }
   ],
   "source": [
    "# Standardize the features\n",
    "scalerS = StandardScaler()\n",
    "X_scaledS = scalerS.fit_transform(X)\n",
    "\n",
    "for i in range (2,16):\n",
    "    pca = PCA(n_components=i)\n",
    "    X_pca = pca.fit_transform(X_scaledS)\n",
    "    \n",
    "    print('Explained variance ratio:', (pca.explained_variance_ratio_).round(2))"
   ],
   "metadata": {
    "collapsed": false,
    "ExecuteTime": {
     "end_time": "2024-06-20T09:31:10.026901400Z",
     "start_time": "2024-06-20T09:31:09.824482Z"
    }
   },
   "id": "cf8d4b16ee03dcb9",
   "execution_count": 22
  },
  {
   "cell_type": "markdown",
   "source": [
    "# no Scaling"
   ],
   "metadata": {
    "collapsed": false
   },
   "id": "b3c1d652f72641bd"
  },
  {
   "cell_type": "code",
   "outputs": [
    {
     "name": "stdout",
     "output_type": "stream",
     "text": [
      "Explained variance ratio: [0.95 0.04]\n",
      "Explained variance ratio: [0.95 0.04 0.01]\n",
      "Explained variance ratio: [0.95 0.04 0.01 0.  ]\n",
      "Explained variance ratio: [0.95 0.04 0.01 0.   0.  ]\n",
      "Explained variance ratio: [0.95 0.04 0.01 0.   0.   0.  ]\n",
      "Explained variance ratio: [0.95 0.04 0.01 0.   0.   0.   0.  ]\n",
      "Explained variance ratio: [0.95 0.04 0.01 0.   0.   0.   0.   0.  ]\n",
      "Explained variance ratio: [0.95 0.04 0.01 0.   0.   0.   0.   0.   0.  ]\n",
      "Explained variance ratio: [0.95 0.04 0.01 0.   0.   0.   0.   0.   0.   0.  ]\n",
      "Explained variance ratio: [0.95 0.04 0.01 0.   0.   0.   0.   0.   0.   0.   0.  ]\n",
      "Explained variance ratio: [0.95 0.04 0.01 0.   0.   0.   0.   0.   0.   0.   0.   0.  ]\n",
      "Explained variance ratio: [0.95 0.04 0.01 0.   0.   0.   0.   0.   0.   0.   0.   0.   0.  ]\n",
      "Explained variance ratio: [0.95 0.04 0.01 0.   0.   0.   0.   0.   0.   0.   0.   0.   0.   0.  ]\n",
      "Explained variance ratio: [0.95 0.04 0.01 0.   0.   0.   0.   0.   0.   0.   0.   0.   0.   0.\n",
      " 0.  ]\n"
     ]
    }
   ],
   "source": [
    "# Standardize the features\n",
    "\n",
    "\n",
    "for j in range (2,16):\n",
    "    pca2= PCA(n_components=j)\n",
    "    X_pca2 = pca2.fit_transform(X)\n",
    "    \n",
    "    print('Explained variance ratio:', (pca2.explained_variance_ratio_).round(2))"
   ],
   "metadata": {
    "collapsed": false,
    "ExecuteTime": {
     "end_time": "2024-06-20T09:31:10.224576800Z",
     "start_time": "2024-06-20T09:31:10.032153500Z"
    }
   },
   "id": "53b7a94f5fe03db3",
   "execution_count": 23
  },
  {
   "cell_type": "markdown",
   "source": [
    "# MinMax Scaling"
   ],
   "metadata": {
    "collapsed": false
   },
   "id": "c26868bff46a95ee"
  },
  {
   "cell_type": "code",
   "outputs": [
    {
     "name": "stdout",
     "output_type": "stream",
     "text": [
      "Explained variance ratio: [0.14 0.13]\n",
      "Explained variance ratio: [0.14 0.13 0.1 ]\n",
      "Explained variance ratio: [0.14 0.13 0.1  0.09]\n",
      "Explained variance ratio: [0.14 0.13 0.1  0.09 0.07]\n",
      "Explained variance ratio: [0.14 0.13 0.1  0.09 0.07 0.07]\n",
      "Explained variance ratio: [0.14 0.13 0.1  0.09 0.07 0.07 0.07]\n",
      "Explained variance ratio: [0.14 0.13 0.1  0.09 0.07 0.07 0.07 0.06]\n",
      "Explained variance ratio: [0.14 0.13 0.1  0.09 0.07 0.07 0.07 0.06 0.06]\n",
      "Explained variance ratio: [0.14 0.13 0.1  0.09 0.07 0.07 0.07 0.06 0.06 0.05]\n",
      "Explained variance ratio: [0.14 0.13 0.1  0.09 0.07 0.07 0.07 0.06 0.06 0.05 0.05]\n",
      "Explained variance ratio: [0.14 0.13 0.1  0.09 0.07 0.07 0.07 0.06 0.06 0.05 0.05 0.04]\n",
      "Explained variance ratio: [0.14 0.13 0.1  0.09 0.07 0.07 0.07 0.06 0.06 0.05 0.05 0.04 0.04]\n",
      "Explained variance ratio: [0.14 0.13 0.1  0.09 0.07 0.07 0.07 0.06 0.06 0.05 0.05 0.04 0.04 0.03]\n",
      "Explained variance ratio: [0.14 0.13 0.1  0.09 0.07 0.07 0.07 0.06 0.06 0.05 0.05 0.04 0.04 0.03\n",
      " 0.01]\n"
     ]
    }
   ],
   "source": [
    "# Standardize the features\n",
    "scalerM = MinMaxScaler()\n",
    "X_scaledM = scalerS.fit_transform(X)\n",
    "\n",
    "for i in range (2,16):\n",
    "    pca = PCA(n_components=i)\n",
    "    X_pca = pca.fit_transform(X_scaledS)\n",
    "    \n",
    "    print('Explained variance ratio:', (pca.explained_variance_ratio_).round(2))"
   ],
   "metadata": {
    "collapsed": false,
    "ExecuteTime": {
     "end_time": "2024-06-20T09:31:11.063393200Z",
     "start_time": "2024-06-20T09:31:10.949297900Z"
    }
   },
   "id": "dd23208bca0fbb9e",
   "execution_count": 24
  }
 ],
 "metadata": {
  "kernelspec": {
   "display_name": "Python 3",
   "language": "python",
   "name": "python3"
  },
  "language_info": {
   "codemirror_mode": {
    "name": "ipython",
    "version": 2
   },
   "file_extension": ".py",
   "mimetype": "text/x-python",
   "name": "python",
   "nbconvert_exporter": "python",
   "pygments_lexer": "ipython2",
   "version": "2.7.6"
  }
 },
 "nbformat": 4,
 "nbformat_minor": 5
}
