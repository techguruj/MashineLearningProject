{
 "cells": [
  {
   "cell_type": "code",
   "execution_count": 114,
   "id": "initial_id",
   "metadata": {
    "collapsed": true,
    "ExecuteTime": {
     "end_time": "2024-06-18T20:40:03.374478200Z",
     "start_time": "2024-06-18T20:40:03.233746200Z"
    }
   },
   "outputs": [],
   "source": [
    "import pandas as pd\n",
    "import numpy as np\n",
    "import matplotlib.pyplot as plt\n",
    "from sklearn.preprocessing import LabelEncoder, OneHotEncoder\n"
   ]
  },
  {
   "cell_type": "code",
   "outputs": [
    {
     "data": {
      "text/plain": "         stag  event gender   age         industry  profession      traffic  \\\n0    7.030801      1      m  35.0            Banks          HR  rabrecNErab   \n1   22.965092      1      m  33.0            Banks          HR        empjs   \n2   15.934292      1      f  35.0  PowerGeneration          HR  rabrecNErab   \n3   15.934292      1      f  35.0  PowerGeneration          HR  rabrecNErab   \n4    8.410678      1      m  32.0           Retail  Commercial        youjs   \n..        ...    ...    ...   ...              ...         ...          ...   \n95   9.889117      1      f  25.0          Consult          HR        youjs   \n96   3.351129      1      f  24.0          Consult          HR        youjs   \n97  15.310062      1      f  31.0            State          HR  rabrecNErab   \n98  80.065708      1      f  45.0           Retail          HR        empjs   \n99  16.788501      1      f  21.0              etc         etc  rabrecNErab   \n\n      coach head_gender greywage  way  extraversion  independ  selfcontrol  \\\n0        no           f    white  bus           6.2       4.1          5.7   \n1        no           m    white  bus           6.2       4.1          5.7   \n2        no           m    white  bus           6.2       6.2          2.6   \n3        no           m    white  bus           5.4       7.6          4.9   \n4       yes           f    white  bus           3.0       4.1          8.0   \n..      ...         ...      ...  ...           ...       ...          ...   \n95  my head           f    white  bus           5.4       6.9          5.7   \n96       no           f    white  bus           4.6       6.9          5.7   \n97       no           m     grey  bus           2.2       1.0          8.0   \n98       no           f    white  bus           3.0       5.5         10.0   \n99  my head           f    white  bus           7.0       6.9          5.7   \n\n    anxiety  novator  \n0       7.1      8.3  \n1       7.1      8.3  \n2       4.8      8.3  \n3       2.5      6.7  \n4       7.1      3.7  \n..      ...      ...  \n95      3.3      2.9  \n96      5.6      2.9  \n97      8.7      3.7  \n98      6.3      2.9  \n99      4.0      5.2  \n\n[100 rows x 16 columns]",
      "text/html": "<div>\n<style scoped>\n    .dataframe tbody tr th:only-of-type {\n        vertical-align: middle;\n    }\n\n    .dataframe tbody tr th {\n        vertical-align: top;\n    }\n\n    .dataframe thead th {\n        text-align: right;\n    }\n</style>\n<table border=\"1\" class=\"dataframe\">\n  <thead>\n    <tr style=\"text-align: right;\">\n      <th></th>\n      <th>stag</th>\n      <th>event</th>\n      <th>gender</th>\n      <th>age</th>\n      <th>industry</th>\n      <th>profession</th>\n      <th>traffic</th>\n      <th>coach</th>\n      <th>head_gender</th>\n      <th>greywage</th>\n      <th>way</th>\n      <th>extraversion</th>\n      <th>independ</th>\n      <th>selfcontrol</th>\n      <th>anxiety</th>\n      <th>novator</th>\n    </tr>\n  </thead>\n  <tbody>\n    <tr>\n      <th>0</th>\n      <td>7.030801</td>\n      <td>1</td>\n      <td>m</td>\n      <td>35.0</td>\n      <td>Banks</td>\n      <td>HR</td>\n      <td>rabrecNErab</td>\n      <td>no</td>\n      <td>f</td>\n      <td>white</td>\n      <td>bus</td>\n      <td>6.2</td>\n      <td>4.1</td>\n      <td>5.7</td>\n      <td>7.1</td>\n      <td>8.3</td>\n    </tr>\n    <tr>\n      <th>1</th>\n      <td>22.965092</td>\n      <td>1</td>\n      <td>m</td>\n      <td>33.0</td>\n      <td>Banks</td>\n      <td>HR</td>\n      <td>empjs</td>\n      <td>no</td>\n      <td>m</td>\n      <td>white</td>\n      <td>bus</td>\n      <td>6.2</td>\n      <td>4.1</td>\n      <td>5.7</td>\n      <td>7.1</td>\n      <td>8.3</td>\n    </tr>\n    <tr>\n      <th>2</th>\n      <td>15.934292</td>\n      <td>1</td>\n      <td>f</td>\n      <td>35.0</td>\n      <td>PowerGeneration</td>\n      <td>HR</td>\n      <td>rabrecNErab</td>\n      <td>no</td>\n      <td>m</td>\n      <td>white</td>\n      <td>bus</td>\n      <td>6.2</td>\n      <td>6.2</td>\n      <td>2.6</td>\n      <td>4.8</td>\n      <td>8.3</td>\n    </tr>\n    <tr>\n      <th>3</th>\n      <td>15.934292</td>\n      <td>1</td>\n      <td>f</td>\n      <td>35.0</td>\n      <td>PowerGeneration</td>\n      <td>HR</td>\n      <td>rabrecNErab</td>\n      <td>no</td>\n      <td>m</td>\n      <td>white</td>\n      <td>bus</td>\n      <td>5.4</td>\n      <td>7.6</td>\n      <td>4.9</td>\n      <td>2.5</td>\n      <td>6.7</td>\n    </tr>\n    <tr>\n      <th>4</th>\n      <td>8.410678</td>\n      <td>1</td>\n      <td>m</td>\n      <td>32.0</td>\n      <td>Retail</td>\n      <td>Commercial</td>\n      <td>youjs</td>\n      <td>yes</td>\n      <td>f</td>\n      <td>white</td>\n      <td>bus</td>\n      <td>3.0</td>\n      <td>4.1</td>\n      <td>8.0</td>\n      <td>7.1</td>\n      <td>3.7</td>\n    </tr>\n    <tr>\n      <th>...</th>\n      <td>...</td>\n      <td>...</td>\n      <td>...</td>\n      <td>...</td>\n      <td>...</td>\n      <td>...</td>\n      <td>...</td>\n      <td>...</td>\n      <td>...</td>\n      <td>...</td>\n      <td>...</td>\n      <td>...</td>\n      <td>...</td>\n      <td>...</td>\n      <td>...</td>\n      <td>...</td>\n    </tr>\n    <tr>\n      <th>95</th>\n      <td>9.889117</td>\n      <td>1</td>\n      <td>f</td>\n      <td>25.0</td>\n      <td>Consult</td>\n      <td>HR</td>\n      <td>youjs</td>\n      <td>my head</td>\n      <td>f</td>\n      <td>white</td>\n      <td>bus</td>\n      <td>5.4</td>\n      <td>6.9</td>\n      <td>5.7</td>\n      <td>3.3</td>\n      <td>2.9</td>\n    </tr>\n    <tr>\n      <th>96</th>\n      <td>3.351129</td>\n      <td>1</td>\n      <td>f</td>\n      <td>24.0</td>\n      <td>Consult</td>\n      <td>HR</td>\n      <td>youjs</td>\n      <td>no</td>\n      <td>f</td>\n      <td>white</td>\n      <td>bus</td>\n      <td>4.6</td>\n      <td>6.9</td>\n      <td>5.7</td>\n      <td>5.6</td>\n      <td>2.9</td>\n    </tr>\n    <tr>\n      <th>97</th>\n      <td>15.310062</td>\n      <td>1</td>\n      <td>f</td>\n      <td>31.0</td>\n      <td>State</td>\n      <td>HR</td>\n      <td>rabrecNErab</td>\n      <td>no</td>\n      <td>m</td>\n      <td>grey</td>\n      <td>bus</td>\n      <td>2.2</td>\n      <td>1.0</td>\n      <td>8.0</td>\n      <td>8.7</td>\n      <td>3.7</td>\n    </tr>\n    <tr>\n      <th>98</th>\n      <td>80.065708</td>\n      <td>1</td>\n      <td>f</td>\n      <td>45.0</td>\n      <td>Retail</td>\n      <td>HR</td>\n      <td>empjs</td>\n      <td>no</td>\n      <td>f</td>\n      <td>white</td>\n      <td>bus</td>\n      <td>3.0</td>\n      <td>5.5</td>\n      <td>10.0</td>\n      <td>6.3</td>\n      <td>2.9</td>\n    </tr>\n    <tr>\n      <th>99</th>\n      <td>16.788501</td>\n      <td>1</td>\n      <td>f</td>\n      <td>21.0</td>\n      <td>etc</td>\n      <td>etc</td>\n      <td>rabrecNErab</td>\n      <td>my head</td>\n      <td>f</td>\n      <td>white</td>\n      <td>bus</td>\n      <td>7.0</td>\n      <td>6.9</td>\n      <td>5.7</td>\n      <td>4.0</td>\n      <td>5.2</td>\n    </tr>\n  </tbody>\n</table>\n<p>100 rows × 16 columns</p>\n</div>"
     },
     "execution_count": 115,
     "metadata": {},
     "output_type": "execute_result"
    }
   ],
   "source": [
    "file = pd.read_csv('turnover.csv',encoding='ISO-8859-1')\n",
    "df = pd.DataFrame(file)\n",
    "df.head(100)"
   ],
   "metadata": {
    "collapsed": false,
    "ExecuteTime": {
     "end_time": "2024-06-18T20:40:03.430144900Z",
     "start_time": "2024-06-18T20:40:03.382064500Z"
    }
   },
   "id": "4a55cb920980e648",
   "execution_count": 115
  },
  {
   "cell_type": "code",
   "outputs": [
    {
     "name": "stdout",
     "output_type": "stream",
     "text": [
      "['gender' 'industry' 'profession' 'traffic' 'coach' 'head_gender'\n",
      " 'greywage' 'way'] \n",
      "\n",
      "gender : ['m' 'f'] \n",
      "\n",
      "industry : ['Banks' 'PowerGeneration' 'Retail' 'manufacture' 'Consult' 'State' 'etc'\n",
      " 'Building' 'IT' ' HoReCa' 'Telecom' 'Pharma' 'Mining' 'transport'\n",
      " 'Agriculture' 'RealEstate'] \n",
      "\n",
      "profession : ['HR' 'Commercial' 'Marketing' 'etc' 'Sales' 'BusinessDevelopment'\n",
      " 'Finanñe' 'Teaching' 'manage' 'IT' 'Law' 'Consult' 'Engineer' 'PR'\n",
      " 'Accounting'] \n",
      "\n",
      "traffic : ['rabrecNErab' 'empjs' 'youjs' 'referal' 'advert' 'KA' 'recNErab'\n",
      " 'friends'] \n",
      "\n",
      "coach : ['no' 'yes' 'my head'] \n",
      "\n",
      "head_gender : ['f' 'm'] \n",
      "\n",
      "greywage : ['white' 'grey'] \n",
      "\n",
      "way : ['bus' 'car' 'foot'] \n"
     ]
    }
   ],
   "source": [
    "df_objects = df.select_dtypes(include=['object']).copy()\n",
    "print(df_objects.columns.values,'\\n')\n",
    "\n",
    "for i in df_objects.columns.values:\n",
    "    print(i,':', df[i].unique(),'\\n')"
   ],
   "metadata": {
    "collapsed": false,
    "ExecuteTime": {
     "end_time": "2024-06-18T20:40:03.485479400Z",
     "start_time": "2024-06-18T20:40:03.433984700Z"
    }
   },
   "id": "6f6872f899f6d7fb",
   "execution_count": 116
  },
  {
   "cell_type": "code",
   "outputs": [
    {
     "name": "stdout",
     "output_type": "stream",
     "text": [
      "['Banks' 'PowerGeneration' 'Retail' 'manufacture' 'Consult' 'State' 'etc'\n",
      " 'Building' 'IT' ' HoReCa' 'Telecom' 'Pharma' 'Mining' 'transport'\n",
      " 'Agriculture' 'RealEstate']\n"
     ]
    }
   ],
   "source": [
    "df2=df.copy()\n",
    "\n",
    "print(df2['industry'].unique())"
   ],
   "metadata": {
    "collapsed": false,
    "ExecuteTime": {
     "end_time": "2024-06-18T20:40:03.621387Z",
     "start_time": "2024-06-18T20:40:03.467308400Z"
    }
   },
   "id": "c6a4ce14d162509",
   "execution_count": 117
  },
  {
   "cell_type": "code",
   "outputs": [
    {
     "name": "stdout",
     "output_type": "stream",
     "text": [
      "['ServiceProviding' 'GoodsProducing']\n"
     ]
    }
   ],
   "source": [
    "# df2['industry'] = df2['industry'].replace([ 'Agriculture','Mining'],['PrimarySector','PrimarySector'])\n",
    "# df2['industry'] = df2['industry'].replace([ 'PowerGeneration' ,'manufacture','Building'],['SecondarySector','SecondarySector','SecondarySector'])\n",
    "# df2['industry'] = df2['industry'].replace([ 'Banks' ,'Retail','Consult','State','IT' ,' HoReCa','Telecom','Pharma','transport','RealEstate','etc'],['TertiarySector','TertiarySector','TertiarySector','TertiarySector','TertiarySector','TertiarySector','TertiarySector','TertiarySector','TertiarySector','TertiarySector','TertiarySector'])\n",
    "\n",
    "df2['industry'] = df2['industry'].replace(['PowerGeneration', 'manufacture', 'Building', 'Mining', 'Agriculture'],\n",
    "['GoodsProducing','GoodsProducing','GoodsProducing','GoodsProducing','GoodsProducing'])\n",
    "df2['industry'] = df2['industry'].replace(['Banks', 'Retail', 'Consult', 'State', 'IT', ' HoReCa', 'Telecom', 'Pharma', 'transport', 'RealEstate', 'etc'], ['ServiceProviding','ServiceProviding','ServiceProviding','ServiceProviding','ServiceProviding','ServiceProviding','ServiceProviding','ServiceProviding','ServiceProviding','ServiceProviding','ServiceProviding'])\n",
    "                                                                                                                                                           \n",
    "print(df2['industry'].unique())"
   ],
   "metadata": {
    "collapsed": false,
    "ExecuteTime": {
     "end_time": "2024-06-18T20:40:03.753159500Z",
     "start_time": "2024-06-18T20:40:03.543088100Z"
    }
   },
   "id": "9037ba812aa63c00",
   "execution_count": 118
  },
  {
   "cell_type": "code",
   "outputs": [
    {
     "data": {
      "text/plain": "0       ServiceProviding\n1       ServiceProviding\n2         GoodsProducing\n3         GoodsProducing\n4       ServiceProviding\n              ...       \n1124    ServiceProviding\n1125    ServiceProviding\n1126    ServiceProviding\n1127    ServiceProviding\n1128    ServiceProviding\nName: industry, Length: 1129, dtype: object"
     },
     "execution_count": 119,
     "metadata": {},
     "output_type": "execute_result"
    }
   ],
   "source": [
    "df2['industry']"
   ],
   "metadata": {
    "collapsed": false,
    "ExecuteTime": {
     "end_time": "2024-06-18T20:40:03.929632400Z",
     "start_time": "2024-06-18T20:40:03.666405400Z"
    }
   },
   "id": "7e370ad20411c9ea",
   "execution_count": 119
  },
  {
   "cell_type": "markdown",
   "source": [],
   "metadata": {
    "collapsed": false
   },
   "id": "6532a34db5a5367e"
  },
  {
   "cell_type": "code",
   "outputs": [
    {
     "name": "stdout",
     "output_type": "stream",
     "text": [
      "['HR' 'Commercial' 'Marketing' 'etc' 'Sales' 'BusinessDevelopment'\n",
      " 'Finanñe' 'Teaching' 'manage' 'IT' 'Law' 'Consult' 'Engineer' 'PR'\n",
      " 'Accounting']\n"
     ]
    }
   ],
   "source": [
    "print(df2['profession'].unique())"
   ],
   "metadata": {
    "collapsed": false,
    "ExecuteTime": {
     "end_time": "2024-06-18T20:40:04.079850300Z",
     "start_time": "2024-06-18T20:40:03.925157Z"
    }
   },
   "id": "6bb0f97d37c33337",
   "execution_count": 120
  },
  {
   "cell_type": "markdown",
   "source": [],
   "metadata": {
    "collapsed": false
   },
   "id": "c960ebd1dbbb62de"
  },
  {
   "cell_type": "code",
   "outputs": [
    {
     "name": "stdout",
     "output_type": "stream",
     "text": [
      "[0 1]\n"
     ]
    }
   ],
   "source": [
    "df2['profession'] = df2['profession'].replace(['IT', 'Engineer',  'Finanñe', 'Accounting', 'Law'],['Technical','Technical','Technical','Technical','Technical'])\n",
    "df2['profession'] = df2['profession'].replace(['HR', 'Commercial', 'Marketing', 'Sales', 'BusinessDevelopment', 'Teaching', 'manage', 'Consult', 'PR','etc']\n",
    ",['NonTechnical','NonTechnical','NonTechnical','NonTechnical','NonTechnical','NonTechnical','NonTechnical','NonTechnical','NonTechnical','NonTechnical'])\n",
    "print(df2['profession'].unique())"
   ],
   "metadata": {
    "collapsed": false,
    "ExecuteTime": {
     "end_time": "2024-06-18T20:53:20.711954400Z",
     "start_time": "2024-06-18T20:53:20.638830200Z"
    }
   },
   "id": "98b713b8b2d69e93",
   "execution_count": 139
  },
  {
   "cell_type": "code",
   "outputs": [
    {
     "name": "stdout",
     "output_type": "stream",
     "text": [
      "['rabrecNErab' 'empjs' 'youjs' 'referal' 'advert' 'KA' 'recNErab'\n",
      " 'friends']\n"
     ]
    }
   ],
   "source": [
    "print(df2['traffic'].unique())\n"
   ],
   "metadata": {
    "collapsed": false,
    "ExecuteTime": {
     "end_time": "2024-06-18T20:40:04.202679200Z",
     "start_time": "2024-06-18T20:40:04.097992Z"
    }
   },
   "id": "46970944d739b20e",
   "execution_count": 122
  },
  {
   "cell_type": "code",
   "outputs": [
    {
     "name": "stdout",
     "output_type": "stream",
     "text": [
      "['EmployerInitiated' 'EmployeeInitiated']\n"
     ]
    }
   ],
   "source": [
    "df2['traffic'] = df2['traffic'].replace(['advert', 'recNErab', 'referal', 'youjs', 'KA', 'friends'],['EmployeeInitiated','EmployeeInitiated','EmployeeInitiated','EmployeeInitiated','EmployeeInitiated','EmployeeInitiated'])\n",
    "df2['traffic'] = df2['traffic'].replace(['rabrecNErab', 'empjs'], ['EmployerInitiated','EmployerInitiated'])\n",
    "print(df2['traffic'].unique())\n"
   ],
   "metadata": {
    "collapsed": false,
    "ExecuteTime": {
     "end_time": "2024-06-18T20:40:04.316874500Z",
     "start_time": "2024-06-18T20:40:04.194541500Z"
    }
   },
   "id": "69f29924e6e262b2",
   "execution_count": 123
  },
  {
   "cell_type": "code",
   "outputs": [
    {
     "name": "stdout",
     "output_type": "stream",
     "text": [
      "['no' 'yes' 'my head']\n"
     ]
    }
   ],
   "source": [
    "print(df2['coach'].unique())"
   ],
   "metadata": {
    "collapsed": false,
    "ExecuteTime": {
     "end_time": "2024-06-18T20:40:04.402948Z",
     "start_time": "2024-06-18T20:40:04.322168900Z"
    }
   },
   "id": "c3459206c0f35010",
   "execution_count": 124
  },
  {
   "cell_type": "code",
   "outputs": [
    {
     "name": "stdout",
     "output_type": "stream",
     "text": [
      "['no' 'yes']\n"
     ]
    }
   ],
   "source": [
    "df2['coach'] = df2['coach'].replace(['my head'],['yes'])\n",
    "\n",
    "print(df2['coach'].unique())"
   ],
   "metadata": {
    "collapsed": false,
    "ExecuteTime": {
     "end_time": "2024-06-18T20:40:04.501774400Z",
     "start_time": "2024-06-18T20:40:04.390155900Z"
    }
   },
   "id": "5d532b73aff99019",
   "execution_count": 125
  },
  {
   "cell_type": "code",
   "outputs": [
    {
     "name": "stdout",
     "output_type": "stream",
     "text": [
      "['bus' 'car' 'foot']\n"
     ]
    }
   ],
   "source": [
    "print(df2['way'].unique())"
   ],
   "metadata": {
    "collapsed": false,
    "ExecuteTime": {
     "end_time": "2024-06-18T20:40:04.530231900Z",
     "start_time": "2024-06-18T20:40:04.474563400Z"
    }
   },
   "id": "f5920a6cbe2c9eab",
   "execution_count": 126
  },
  {
   "cell_type": "code",
   "outputs": [
    {
     "data": {
      "text/plain": "            stag  event gender   age          industry    profession  \\\n0       7.030801      1      m  35.0  ServiceProviding  NonTechnical   \n1      22.965092      1      m  33.0  ServiceProviding  NonTechnical   \n2      15.934292      1      f  35.0    GoodsProducing  NonTechnical   \n3      15.934292      1      f  35.0    GoodsProducing  NonTechnical   \n4       8.410678      1      m  32.0  ServiceProviding  NonTechnical   \n...          ...    ...    ...   ...               ...           ...   \n1124   10.611910      0      f  41.0  ServiceProviding  NonTechnical   \n1125   10.611910      0      f  41.0  ServiceProviding  NonTechnical   \n1126  118.800821      0      f  34.0  ServiceProviding     Technical   \n1127   49.412731      0      f  51.0  ServiceProviding  NonTechnical   \n1128   24.837782      0      f  29.0  ServiceProviding  NonTechnical   \n\n                traffic coach head_gender greywage  way  extraversion  \\\n0     EmployerInitiated    no           f    white  bus           6.2   \n1     EmployerInitiated    no           m    white  bus           6.2   \n2     EmployerInitiated    no           m    white  bus           6.2   \n3     EmployerInitiated    no           m    white  bus           5.4   \n4     EmployeeInitiated   yes           f    white  bus           3.0   \n...                 ...   ...         ...      ...  ...           ...   \n1124  EmployerInitiated   yes           m    white  bus           8.6   \n1125  EmployerInitiated   yes           m    white  bus           8.6   \n1126  EmployeeInitiated    no           f    white  bus           4.6   \n1127  EmployerInitiated    no           m     grey  bus           3.8   \n1128  EmployeeInitiated    no           f    white  car           9.4   \n\n      independ  selfcontrol  anxiety  novator  \n0          4.1          5.7      7.1      8.3  \n1          4.1          5.7      7.1      8.3  \n2          6.2          2.6      4.8      8.3  \n3          7.6          4.9      2.5      6.7  \n4          4.1          8.0      7.1      3.7  \n...        ...          ...      ...      ...  \n1124       3.4          2.6      4.8      8.3  \n1125       3.4          2.6      4.8      8.3  \n1126       5.5          7.2      6.3      3.7  \n1127       7.6          5.7      6.3      5.2  \n1128       1.2          4.1      5.6      6.7  \n\n[1129 rows x 16 columns]",
      "text/html": "<div>\n<style scoped>\n    .dataframe tbody tr th:only-of-type {\n        vertical-align: middle;\n    }\n\n    .dataframe tbody tr th {\n        vertical-align: top;\n    }\n\n    .dataframe thead th {\n        text-align: right;\n    }\n</style>\n<table border=\"1\" class=\"dataframe\">\n  <thead>\n    <tr style=\"text-align: right;\">\n      <th></th>\n      <th>stag</th>\n      <th>event</th>\n      <th>gender</th>\n      <th>age</th>\n      <th>industry</th>\n      <th>profession</th>\n      <th>traffic</th>\n      <th>coach</th>\n      <th>head_gender</th>\n      <th>greywage</th>\n      <th>way</th>\n      <th>extraversion</th>\n      <th>independ</th>\n      <th>selfcontrol</th>\n      <th>anxiety</th>\n      <th>novator</th>\n    </tr>\n  </thead>\n  <tbody>\n    <tr>\n      <th>0</th>\n      <td>7.030801</td>\n      <td>1</td>\n      <td>m</td>\n      <td>35.0</td>\n      <td>ServiceProviding</td>\n      <td>NonTechnical</td>\n      <td>EmployerInitiated</td>\n      <td>no</td>\n      <td>f</td>\n      <td>white</td>\n      <td>bus</td>\n      <td>6.2</td>\n      <td>4.1</td>\n      <td>5.7</td>\n      <td>7.1</td>\n      <td>8.3</td>\n    </tr>\n    <tr>\n      <th>1</th>\n      <td>22.965092</td>\n      <td>1</td>\n      <td>m</td>\n      <td>33.0</td>\n      <td>ServiceProviding</td>\n      <td>NonTechnical</td>\n      <td>EmployerInitiated</td>\n      <td>no</td>\n      <td>m</td>\n      <td>white</td>\n      <td>bus</td>\n      <td>6.2</td>\n      <td>4.1</td>\n      <td>5.7</td>\n      <td>7.1</td>\n      <td>8.3</td>\n    </tr>\n    <tr>\n      <th>2</th>\n      <td>15.934292</td>\n      <td>1</td>\n      <td>f</td>\n      <td>35.0</td>\n      <td>GoodsProducing</td>\n      <td>NonTechnical</td>\n      <td>EmployerInitiated</td>\n      <td>no</td>\n      <td>m</td>\n      <td>white</td>\n      <td>bus</td>\n      <td>6.2</td>\n      <td>6.2</td>\n      <td>2.6</td>\n      <td>4.8</td>\n      <td>8.3</td>\n    </tr>\n    <tr>\n      <th>3</th>\n      <td>15.934292</td>\n      <td>1</td>\n      <td>f</td>\n      <td>35.0</td>\n      <td>GoodsProducing</td>\n      <td>NonTechnical</td>\n      <td>EmployerInitiated</td>\n      <td>no</td>\n      <td>m</td>\n      <td>white</td>\n      <td>bus</td>\n      <td>5.4</td>\n      <td>7.6</td>\n      <td>4.9</td>\n      <td>2.5</td>\n      <td>6.7</td>\n    </tr>\n    <tr>\n      <th>4</th>\n      <td>8.410678</td>\n      <td>1</td>\n      <td>m</td>\n      <td>32.0</td>\n      <td>ServiceProviding</td>\n      <td>NonTechnical</td>\n      <td>EmployeeInitiated</td>\n      <td>yes</td>\n      <td>f</td>\n      <td>white</td>\n      <td>bus</td>\n      <td>3.0</td>\n      <td>4.1</td>\n      <td>8.0</td>\n      <td>7.1</td>\n      <td>3.7</td>\n    </tr>\n    <tr>\n      <th>...</th>\n      <td>...</td>\n      <td>...</td>\n      <td>...</td>\n      <td>...</td>\n      <td>...</td>\n      <td>...</td>\n      <td>...</td>\n      <td>...</td>\n      <td>...</td>\n      <td>...</td>\n      <td>...</td>\n      <td>...</td>\n      <td>...</td>\n      <td>...</td>\n      <td>...</td>\n      <td>...</td>\n    </tr>\n    <tr>\n      <th>1124</th>\n      <td>10.611910</td>\n      <td>0</td>\n      <td>f</td>\n      <td>41.0</td>\n      <td>ServiceProviding</td>\n      <td>NonTechnical</td>\n      <td>EmployerInitiated</td>\n      <td>yes</td>\n      <td>m</td>\n      <td>white</td>\n      <td>bus</td>\n      <td>8.6</td>\n      <td>3.4</td>\n      <td>2.6</td>\n      <td>4.8</td>\n      <td>8.3</td>\n    </tr>\n    <tr>\n      <th>1125</th>\n      <td>10.611910</td>\n      <td>0</td>\n      <td>f</td>\n      <td>41.0</td>\n      <td>ServiceProviding</td>\n      <td>NonTechnical</td>\n      <td>EmployerInitiated</td>\n      <td>yes</td>\n      <td>m</td>\n      <td>white</td>\n      <td>bus</td>\n      <td>8.6</td>\n      <td>3.4</td>\n      <td>2.6</td>\n      <td>4.8</td>\n      <td>8.3</td>\n    </tr>\n    <tr>\n      <th>1126</th>\n      <td>118.800821</td>\n      <td>0</td>\n      <td>f</td>\n      <td>34.0</td>\n      <td>ServiceProviding</td>\n      <td>Technical</td>\n      <td>EmployeeInitiated</td>\n      <td>no</td>\n      <td>f</td>\n      <td>white</td>\n      <td>bus</td>\n      <td>4.6</td>\n      <td>5.5</td>\n      <td>7.2</td>\n      <td>6.3</td>\n      <td>3.7</td>\n    </tr>\n    <tr>\n      <th>1127</th>\n      <td>49.412731</td>\n      <td>0</td>\n      <td>f</td>\n      <td>51.0</td>\n      <td>ServiceProviding</td>\n      <td>NonTechnical</td>\n      <td>EmployerInitiated</td>\n      <td>no</td>\n      <td>m</td>\n      <td>grey</td>\n      <td>bus</td>\n      <td>3.8</td>\n      <td>7.6</td>\n      <td>5.7</td>\n      <td>6.3</td>\n      <td>5.2</td>\n    </tr>\n    <tr>\n      <th>1128</th>\n      <td>24.837782</td>\n      <td>0</td>\n      <td>f</td>\n      <td>29.0</td>\n      <td>ServiceProviding</td>\n      <td>NonTechnical</td>\n      <td>EmployeeInitiated</td>\n      <td>no</td>\n      <td>f</td>\n      <td>white</td>\n      <td>car</td>\n      <td>9.4</td>\n      <td>1.2</td>\n      <td>4.1</td>\n      <td>5.6</td>\n      <td>6.7</td>\n    </tr>\n  </tbody>\n</table>\n<p>1129 rows × 16 columns</p>\n</div>"
     },
     "execution_count": 127,
     "metadata": {},
     "output_type": "execute_result"
    }
   ],
   "source": [
    "df2"
   ],
   "metadata": {
    "collapsed": false,
    "ExecuteTime": {
     "end_time": "2024-06-18T20:40:04.685582800Z",
     "start_time": "2024-06-18T20:40:04.540315400Z"
    }
   },
   "id": "cb07591ec9cd98b",
   "execution_count": 127
  },
  {
   "cell_type": "code",
   "outputs": [
    {
     "name": "stdout",
     "output_type": "stream",
     "text": [
      "['gender' 'industry' 'profession' 'traffic' 'coach' 'head_gender'\n",
      " 'greywage' 'way'] \n",
      "\n",
      "************************************************** \n",
      "\n",
      "gender : ['m' 'f'] \n",
      "\n",
      "industry : ['ServiceProviding' 'GoodsProducing'] \n",
      "\n",
      "profession : ['NonTechnical' 'Technical'] \n",
      "\n",
      "traffic : ['EmployerInitiated' 'EmployeeInitiated'] \n",
      "\n",
      "coach : ['no' 'yes'] \n",
      "\n",
      "head_gender : ['f' 'm'] \n",
      "\n",
      "greywage : ['white' 'grey'] \n",
      "\n",
      "way : ['bus' 'car' 'foot'] \n"
     ]
    }
   ],
   "source": [
    "df2_objects = df2.select_dtypes(include=['object']).copy()\n",
    "print(df2_objects.columns.values,'\\n')\n",
    "print('*'*50,'\\n')\n",
    "for i in df2_objects.columns.values:\n",
    "    print(i,':', df2[i].unique(),'\\n')"
   ],
   "metadata": {
    "collapsed": false,
    "ExecuteTime": {
     "end_time": "2024-06-18T20:40:04.729134300Z",
     "start_time": "2024-06-18T20:40:04.642601500Z"
    }
   },
   "id": "4fb1b1b0ac89b21",
   "execution_count": 128
  },
  {
   "cell_type": "code",
   "outputs": [],
   "source": [
    "df2['gender'] = df2['gender'].replace(['m','f'],[1,0]) # m=1 , f=0\n",
    "df2['industry'] = df2['industry'].replace(['GoodsProducing','ServiceProviding'],[1,0]) # GoodsProducing=1 , ServiceProviding=0\n",
    "df2['profession'] = df2['profession'].replace(['Technical','NonTechnical'],[1,0]) # Technical=1 , NonTechnical=0\n",
    "df2['traffic'] = df2['traffic'].replace(['EmployerInitiated','EmployeeInitiated',],[1,0]) # EmployerInitiated=1 , EmployeeInitiated=0\n",
    "df2['coach'] = df2['coach'].replace(['yes','no'],[1,0]) # yes=1 , no=0\n",
    "df2['head_gender'] = df2['head_gender'].replace(['m','f'],[1,0]) # m=1 , f=0\n",
    "df2['greywage'] = df2['greywage'].replace(['white','grey'],[1,0]) # white=1 , grey=0\n",
    "df2['way'] = df2['way'].replace(['foot','bus','car'],[0,1,2]) # foot=0 , bus=1 , car=2'\n",
    "\n",
    "                                 "
   ],
   "metadata": {
    "collapsed": false,
    "ExecuteTime": {
     "end_time": "2024-06-18T20:41:02.510249500Z",
     "start_time": "2024-06-18T20:41:02.459780400Z"
    }
   },
   "id": "64c8effedc9bcaae",
   "execution_count": 131
  },
  {
   "cell_type": "code",
   "outputs": [
    {
     "data": {
      "text/plain": "            stag  event  gender   age  industry  profession  traffic  coach  \\\n0       7.030801      1       1  35.0         0           0        1      0   \n1      22.965092      1       1  33.0         0           0        1      0   \n2      15.934292      1       0  35.0         1           0        1      0   \n3      15.934292      1       0  35.0         1           0        1      0   \n4       8.410678      1       1  32.0         0           0        0      1   \n...          ...    ...     ...   ...       ...         ...      ...    ...   \n1124   10.611910      0       0  41.0         0           0        1      1   \n1125   10.611910      0       0  41.0         0           0        1      1   \n1126  118.800821      0       0  34.0         0           1        0      0   \n1127   49.412731      0       0  51.0         0           0        1      0   \n1128   24.837782      0       0  29.0         0           0        0      0   \n\n      head_gender  greywage  way  extraversion  independ  selfcontrol  \\\n0               0         1    1           6.2       4.1          5.7   \n1               1         1    1           6.2       4.1          5.7   \n2               1         1    1           6.2       6.2          2.6   \n3               1         1    1           5.4       7.6          4.9   \n4               0         1    1           3.0       4.1          8.0   \n...           ...       ...  ...           ...       ...          ...   \n1124            1         1    1           8.6       3.4          2.6   \n1125            1         1    1           8.6       3.4          2.6   \n1126            0         1    1           4.6       5.5          7.2   \n1127            1         0    1           3.8       7.6          5.7   \n1128            0         1    2           9.4       1.2          4.1   \n\n      anxiety  novator  \n0         7.1      8.3  \n1         7.1      8.3  \n2         4.8      8.3  \n3         2.5      6.7  \n4         7.1      3.7  \n...       ...      ...  \n1124      4.8      8.3  \n1125      4.8      8.3  \n1126      6.3      3.7  \n1127      6.3      5.2  \n1128      5.6      6.7  \n\n[1129 rows x 16 columns]",
      "text/html": "<div>\n<style scoped>\n    .dataframe tbody tr th:only-of-type {\n        vertical-align: middle;\n    }\n\n    .dataframe tbody tr th {\n        vertical-align: top;\n    }\n\n    .dataframe thead th {\n        text-align: right;\n    }\n</style>\n<table border=\"1\" class=\"dataframe\">\n  <thead>\n    <tr style=\"text-align: right;\">\n      <th></th>\n      <th>stag</th>\n      <th>event</th>\n      <th>gender</th>\n      <th>age</th>\n      <th>industry</th>\n      <th>profession</th>\n      <th>traffic</th>\n      <th>coach</th>\n      <th>head_gender</th>\n      <th>greywage</th>\n      <th>way</th>\n      <th>extraversion</th>\n      <th>independ</th>\n      <th>selfcontrol</th>\n      <th>anxiety</th>\n      <th>novator</th>\n    </tr>\n  </thead>\n  <tbody>\n    <tr>\n      <th>0</th>\n      <td>7.030801</td>\n      <td>1</td>\n      <td>1</td>\n      <td>35.0</td>\n      <td>0</td>\n      <td>0</td>\n      <td>1</td>\n      <td>0</td>\n      <td>0</td>\n      <td>1</td>\n      <td>1</td>\n      <td>6.2</td>\n      <td>4.1</td>\n      <td>5.7</td>\n      <td>7.1</td>\n      <td>8.3</td>\n    </tr>\n    <tr>\n      <th>1</th>\n      <td>22.965092</td>\n      <td>1</td>\n      <td>1</td>\n      <td>33.0</td>\n      <td>0</td>\n      <td>0</td>\n      <td>1</td>\n      <td>0</td>\n      <td>1</td>\n      <td>1</td>\n      <td>1</td>\n      <td>6.2</td>\n      <td>4.1</td>\n      <td>5.7</td>\n      <td>7.1</td>\n      <td>8.3</td>\n    </tr>\n    <tr>\n      <th>2</th>\n      <td>15.934292</td>\n      <td>1</td>\n      <td>0</td>\n      <td>35.0</td>\n      <td>1</td>\n      <td>0</td>\n      <td>1</td>\n      <td>0</td>\n      <td>1</td>\n      <td>1</td>\n      <td>1</td>\n      <td>6.2</td>\n      <td>6.2</td>\n      <td>2.6</td>\n      <td>4.8</td>\n      <td>8.3</td>\n    </tr>\n    <tr>\n      <th>3</th>\n      <td>15.934292</td>\n      <td>1</td>\n      <td>0</td>\n      <td>35.0</td>\n      <td>1</td>\n      <td>0</td>\n      <td>1</td>\n      <td>0</td>\n      <td>1</td>\n      <td>1</td>\n      <td>1</td>\n      <td>5.4</td>\n      <td>7.6</td>\n      <td>4.9</td>\n      <td>2.5</td>\n      <td>6.7</td>\n    </tr>\n    <tr>\n      <th>4</th>\n      <td>8.410678</td>\n      <td>1</td>\n      <td>1</td>\n      <td>32.0</td>\n      <td>0</td>\n      <td>0</td>\n      <td>0</td>\n      <td>1</td>\n      <td>0</td>\n      <td>1</td>\n      <td>1</td>\n      <td>3.0</td>\n      <td>4.1</td>\n      <td>8.0</td>\n      <td>7.1</td>\n      <td>3.7</td>\n    </tr>\n    <tr>\n      <th>...</th>\n      <td>...</td>\n      <td>...</td>\n      <td>...</td>\n      <td>...</td>\n      <td>...</td>\n      <td>...</td>\n      <td>...</td>\n      <td>...</td>\n      <td>...</td>\n      <td>...</td>\n      <td>...</td>\n      <td>...</td>\n      <td>...</td>\n      <td>...</td>\n      <td>...</td>\n      <td>...</td>\n    </tr>\n    <tr>\n      <th>1124</th>\n      <td>10.611910</td>\n      <td>0</td>\n      <td>0</td>\n      <td>41.0</td>\n      <td>0</td>\n      <td>0</td>\n      <td>1</td>\n      <td>1</td>\n      <td>1</td>\n      <td>1</td>\n      <td>1</td>\n      <td>8.6</td>\n      <td>3.4</td>\n      <td>2.6</td>\n      <td>4.8</td>\n      <td>8.3</td>\n    </tr>\n    <tr>\n      <th>1125</th>\n      <td>10.611910</td>\n      <td>0</td>\n      <td>0</td>\n      <td>41.0</td>\n      <td>0</td>\n      <td>0</td>\n      <td>1</td>\n      <td>1</td>\n      <td>1</td>\n      <td>1</td>\n      <td>1</td>\n      <td>8.6</td>\n      <td>3.4</td>\n      <td>2.6</td>\n      <td>4.8</td>\n      <td>8.3</td>\n    </tr>\n    <tr>\n      <th>1126</th>\n      <td>118.800821</td>\n      <td>0</td>\n      <td>0</td>\n      <td>34.0</td>\n      <td>0</td>\n      <td>1</td>\n      <td>0</td>\n      <td>0</td>\n      <td>0</td>\n      <td>1</td>\n      <td>1</td>\n      <td>4.6</td>\n      <td>5.5</td>\n      <td>7.2</td>\n      <td>6.3</td>\n      <td>3.7</td>\n    </tr>\n    <tr>\n      <th>1127</th>\n      <td>49.412731</td>\n      <td>0</td>\n      <td>0</td>\n      <td>51.0</td>\n      <td>0</td>\n      <td>0</td>\n      <td>1</td>\n      <td>0</td>\n      <td>1</td>\n      <td>0</td>\n      <td>1</td>\n      <td>3.8</td>\n      <td>7.6</td>\n      <td>5.7</td>\n      <td>6.3</td>\n      <td>5.2</td>\n    </tr>\n    <tr>\n      <th>1128</th>\n      <td>24.837782</td>\n      <td>0</td>\n      <td>0</td>\n      <td>29.0</td>\n      <td>0</td>\n      <td>0</td>\n      <td>0</td>\n      <td>0</td>\n      <td>0</td>\n      <td>1</td>\n      <td>2</td>\n      <td>9.4</td>\n      <td>1.2</td>\n      <td>4.1</td>\n      <td>5.6</td>\n      <td>6.7</td>\n    </tr>\n  </tbody>\n</table>\n<p>1129 rows × 16 columns</p>\n</div>"
     },
     "execution_count": 133,
     "metadata": {},
     "output_type": "execute_result"
    }
   ],
   "source": [
    "df2"
   ],
   "metadata": {
    "collapsed": false,
    "ExecuteTime": {
     "end_time": "2024-06-18T20:41:29.455003100Z",
     "start_time": "2024-06-18T20:41:29.388271800Z"
    }
   },
   "id": "3bde8015a99ab9c8",
   "execution_count": 133
  },
  {
   "cell_type": "code",
   "outputs": [],
   "source": [
    "# # from sklearn.preprocessing import OneHotEncoder\n",
    "# \n",
    "# # Instantiate the OneHotEncoder\n",
    "# ohe = OneHotEncoder()\n",
    "# \n",
    "# # Perform one-hot encoding on the 'industry' column\n",
    "# industry_encoded = ohe.fit_transform(df2['industry'].values.reshape(-1,1)).toarray()\n",
    "# \n",
    "# # Create a DataFrame from the encoded data\n",
    "# industry_encoded_df = pd.DataFrame(industry_encoded, columns = ohe.categories_[0])\n",
    "# \n",
    "# # Concatenate the original DataFrame with the encoded DataFrame\n",
    "# df2_encoded = pd.concat([df2, industry_encoded_df], axis=1)\n",
    "# \n",
    "# # Drop the original 'industry' column\n",
    "# df2_encoded = df2_encoded.drop(['industry'], axis=1)"
   ],
   "metadata": {
    "collapsed": false,
    "ExecuteTime": {
     "end_time": "2024-06-18T19:57:45.246627Z",
     "start_time": "2024-06-18T19:57:45.197982300Z"
    }
   },
   "id": "14981214a054838a",
   "execution_count": 78
  },
  {
   "cell_type": "code",
   "outputs": [
    {
     "data": {
      "text/plain": "            stag  event  gender   age  profession  traffic  coach  \\\n0       7.030801      1       1  35.0           0        1      0   \n1      22.965092      1       1  33.0           0        1      0   \n2      15.934292      1       0  35.0           0        1      0   \n3      15.934292      1       0  35.0           0        1      0   \n4       8.410678      1       1  32.0           0        0      1   \n...          ...    ...     ...   ...         ...      ...    ...   \n1124   10.611910      0       0  41.0           0        1      1   \n1125   10.611910      0       0  41.0           0        1      1   \n1126  118.800821      0       0  34.0           1        0      0   \n1127   49.412731      0       0  51.0           0        1      0   \n1128   24.837782      0       0  29.0           0        0      0   \n\n      head_gender  greywage  way  extraversion  independ  selfcontrol  \\\n0               0         1    1           6.2       4.1          5.7   \n1               1         1    1           6.2       4.1          5.7   \n2               1         1    1           6.2       6.2          2.6   \n3               1         1    1           5.4       7.6          4.9   \n4               0         1    1           3.0       4.1          8.0   \n...           ...       ...  ...           ...       ...          ...   \n1124            1         1    1           8.6       3.4          2.6   \n1125            1         1    1           8.6       3.4          2.6   \n1126            0         1    1           4.6       5.5          7.2   \n1127            1         0    1           3.8       7.6          5.7   \n1128            0         1    2           9.4       1.2          4.1   \n\n      anxiety  novator  PrimarySector  SecondarySector  TertiarySector  \n0         7.1      8.3            0.0              0.0             1.0  \n1         7.1      8.3            0.0              0.0             1.0  \n2         4.8      8.3            0.0              1.0             0.0  \n3         2.5      6.7            0.0              1.0             0.0  \n4         7.1      3.7            0.0              0.0             1.0  \n...       ...      ...            ...              ...             ...  \n1124      4.8      8.3            0.0              0.0             1.0  \n1125      4.8      8.3            0.0              0.0             1.0  \n1126      6.3      3.7            0.0              0.0             1.0  \n1127      6.3      5.2            0.0              0.0             1.0  \n1128      5.6      6.7            0.0              0.0             1.0  \n\n[1129 rows x 18 columns]",
      "text/html": "<div>\n<style scoped>\n    .dataframe tbody tr th:only-of-type {\n        vertical-align: middle;\n    }\n\n    .dataframe tbody tr th {\n        vertical-align: top;\n    }\n\n    .dataframe thead th {\n        text-align: right;\n    }\n</style>\n<table border=\"1\" class=\"dataframe\">\n  <thead>\n    <tr style=\"text-align: right;\">\n      <th></th>\n      <th>stag</th>\n      <th>event</th>\n      <th>gender</th>\n      <th>age</th>\n      <th>profession</th>\n      <th>traffic</th>\n      <th>coach</th>\n      <th>head_gender</th>\n      <th>greywage</th>\n      <th>way</th>\n      <th>extraversion</th>\n      <th>independ</th>\n      <th>selfcontrol</th>\n      <th>anxiety</th>\n      <th>novator</th>\n      <th>PrimarySector</th>\n      <th>SecondarySector</th>\n      <th>TertiarySector</th>\n    </tr>\n  </thead>\n  <tbody>\n    <tr>\n      <th>0</th>\n      <td>7.030801</td>\n      <td>1</td>\n      <td>1</td>\n      <td>35.0</td>\n      <td>0</td>\n      <td>1</td>\n      <td>0</td>\n      <td>0</td>\n      <td>1</td>\n      <td>1</td>\n      <td>6.2</td>\n      <td>4.1</td>\n      <td>5.7</td>\n      <td>7.1</td>\n      <td>8.3</td>\n      <td>0.0</td>\n      <td>0.0</td>\n      <td>1.0</td>\n    </tr>\n    <tr>\n      <th>1</th>\n      <td>22.965092</td>\n      <td>1</td>\n      <td>1</td>\n      <td>33.0</td>\n      <td>0</td>\n      <td>1</td>\n      <td>0</td>\n      <td>1</td>\n      <td>1</td>\n      <td>1</td>\n      <td>6.2</td>\n      <td>4.1</td>\n      <td>5.7</td>\n      <td>7.1</td>\n      <td>8.3</td>\n      <td>0.0</td>\n      <td>0.0</td>\n      <td>1.0</td>\n    </tr>\n    <tr>\n      <th>2</th>\n      <td>15.934292</td>\n      <td>1</td>\n      <td>0</td>\n      <td>35.0</td>\n      <td>0</td>\n      <td>1</td>\n      <td>0</td>\n      <td>1</td>\n      <td>1</td>\n      <td>1</td>\n      <td>6.2</td>\n      <td>6.2</td>\n      <td>2.6</td>\n      <td>4.8</td>\n      <td>8.3</td>\n      <td>0.0</td>\n      <td>1.0</td>\n      <td>0.0</td>\n    </tr>\n    <tr>\n      <th>3</th>\n      <td>15.934292</td>\n      <td>1</td>\n      <td>0</td>\n      <td>35.0</td>\n      <td>0</td>\n      <td>1</td>\n      <td>0</td>\n      <td>1</td>\n      <td>1</td>\n      <td>1</td>\n      <td>5.4</td>\n      <td>7.6</td>\n      <td>4.9</td>\n      <td>2.5</td>\n      <td>6.7</td>\n      <td>0.0</td>\n      <td>1.0</td>\n      <td>0.0</td>\n    </tr>\n    <tr>\n      <th>4</th>\n      <td>8.410678</td>\n      <td>1</td>\n      <td>1</td>\n      <td>32.0</td>\n      <td>0</td>\n      <td>0</td>\n      <td>1</td>\n      <td>0</td>\n      <td>1</td>\n      <td>1</td>\n      <td>3.0</td>\n      <td>4.1</td>\n      <td>8.0</td>\n      <td>7.1</td>\n      <td>3.7</td>\n      <td>0.0</td>\n      <td>0.0</td>\n      <td>1.0</td>\n    </tr>\n    <tr>\n      <th>...</th>\n      <td>...</td>\n      <td>...</td>\n      <td>...</td>\n      <td>...</td>\n      <td>...</td>\n      <td>...</td>\n      <td>...</td>\n      <td>...</td>\n      <td>...</td>\n      <td>...</td>\n      <td>...</td>\n      <td>...</td>\n      <td>...</td>\n      <td>...</td>\n      <td>...</td>\n      <td>...</td>\n      <td>...</td>\n      <td>...</td>\n    </tr>\n    <tr>\n      <th>1124</th>\n      <td>10.611910</td>\n      <td>0</td>\n      <td>0</td>\n      <td>41.0</td>\n      <td>0</td>\n      <td>1</td>\n      <td>1</td>\n      <td>1</td>\n      <td>1</td>\n      <td>1</td>\n      <td>8.6</td>\n      <td>3.4</td>\n      <td>2.6</td>\n      <td>4.8</td>\n      <td>8.3</td>\n      <td>0.0</td>\n      <td>0.0</td>\n      <td>1.0</td>\n    </tr>\n    <tr>\n      <th>1125</th>\n      <td>10.611910</td>\n      <td>0</td>\n      <td>0</td>\n      <td>41.0</td>\n      <td>0</td>\n      <td>1</td>\n      <td>1</td>\n      <td>1</td>\n      <td>1</td>\n      <td>1</td>\n      <td>8.6</td>\n      <td>3.4</td>\n      <td>2.6</td>\n      <td>4.8</td>\n      <td>8.3</td>\n      <td>0.0</td>\n      <td>0.0</td>\n      <td>1.0</td>\n    </tr>\n    <tr>\n      <th>1126</th>\n      <td>118.800821</td>\n      <td>0</td>\n      <td>0</td>\n      <td>34.0</td>\n      <td>1</td>\n      <td>0</td>\n      <td>0</td>\n      <td>0</td>\n      <td>1</td>\n      <td>1</td>\n      <td>4.6</td>\n      <td>5.5</td>\n      <td>7.2</td>\n      <td>6.3</td>\n      <td>3.7</td>\n      <td>0.0</td>\n      <td>0.0</td>\n      <td>1.0</td>\n    </tr>\n    <tr>\n      <th>1127</th>\n      <td>49.412731</td>\n      <td>0</td>\n      <td>0</td>\n      <td>51.0</td>\n      <td>0</td>\n      <td>1</td>\n      <td>0</td>\n      <td>1</td>\n      <td>0</td>\n      <td>1</td>\n      <td>3.8</td>\n      <td>7.6</td>\n      <td>5.7</td>\n      <td>6.3</td>\n      <td>5.2</td>\n      <td>0.0</td>\n      <td>0.0</td>\n      <td>1.0</td>\n    </tr>\n    <tr>\n      <th>1128</th>\n      <td>24.837782</td>\n      <td>0</td>\n      <td>0</td>\n      <td>29.0</td>\n      <td>0</td>\n      <td>0</td>\n      <td>0</td>\n      <td>0</td>\n      <td>1</td>\n      <td>2</td>\n      <td>9.4</td>\n      <td>1.2</td>\n      <td>4.1</td>\n      <td>5.6</td>\n      <td>6.7</td>\n      <td>0.0</td>\n      <td>0.0</td>\n      <td>1.0</td>\n    </tr>\n  </tbody>\n</table>\n<p>1129 rows × 18 columns</p>\n</div>"
     },
     "execution_count": 79,
     "metadata": {},
     "output_type": "execute_result"
    }
   ],
   "source": [
    "# df2_encoded\n",
    "# df2_encoded.to_csv('df2_encoded.csv', index=False)"
   ],
   "metadata": {
    "collapsed": false,
    "ExecuteTime": {
     "end_time": "2024-06-18T19:57:52.090405700Z",
     "start_time": "2024-06-18T19:57:52.026788300Z"
    }
   },
   "id": "94226bddf1496436",
   "execution_count": 79
  },
  {
   "cell_type": "code",
   "outputs": [],
   "source": [
    "df2.to_csv('df2_encoded.csv', index=False)"
   ],
   "metadata": {
    "collapsed": false,
    "ExecuteTime": {
     "end_time": "2024-06-18T20:43:39.637900200Z",
     "start_time": "2024-06-18T20:43:39.541778100Z"
    }
   },
   "id": "8c522c8c81c555e",
   "execution_count": 134
  },
  {
   "cell_type": "code",
   "outputs": [
    {
     "data": {
      "text/plain": "            stag   age  extraversion  independ  selfcontrol  anxiety  novator\n0       7.030801  35.0           6.2       4.1          5.7      7.1      8.3\n1      22.965092  33.0           6.2       4.1          5.7      7.1      8.3\n2      15.934292  35.0           6.2       6.2          2.6      4.8      8.3\n3      15.934292  35.0           5.4       7.6          4.9      2.5      6.7\n4       8.410678  32.0           3.0       4.1          8.0      7.1      3.7\n...          ...   ...           ...       ...          ...      ...      ...\n1124   10.611910  41.0           8.6       3.4          2.6      4.8      8.3\n1125   10.611910  41.0           8.6       3.4          2.6      4.8      8.3\n1126  118.800821  34.0           4.6       5.5          7.2      6.3      3.7\n1127   49.412731  51.0           3.8       7.6          5.7      6.3      5.2\n1128   24.837782  29.0           9.4       1.2          4.1      5.6      6.7\n\n[1129 rows x 7 columns]",
      "text/html": "<div>\n<style scoped>\n    .dataframe tbody tr th:only-of-type {\n        vertical-align: middle;\n    }\n\n    .dataframe tbody tr th {\n        vertical-align: top;\n    }\n\n    .dataframe thead th {\n        text-align: right;\n    }\n</style>\n<table border=\"1\" class=\"dataframe\">\n  <thead>\n    <tr style=\"text-align: right;\">\n      <th></th>\n      <th>stag</th>\n      <th>age</th>\n      <th>extraversion</th>\n      <th>independ</th>\n      <th>selfcontrol</th>\n      <th>anxiety</th>\n      <th>novator</th>\n    </tr>\n  </thead>\n  <tbody>\n    <tr>\n      <th>0</th>\n      <td>7.030801</td>\n      <td>35.0</td>\n      <td>6.2</td>\n      <td>4.1</td>\n      <td>5.7</td>\n      <td>7.1</td>\n      <td>8.3</td>\n    </tr>\n    <tr>\n      <th>1</th>\n      <td>22.965092</td>\n      <td>33.0</td>\n      <td>6.2</td>\n      <td>4.1</td>\n      <td>5.7</td>\n      <td>7.1</td>\n      <td>8.3</td>\n    </tr>\n    <tr>\n      <th>2</th>\n      <td>15.934292</td>\n      <td>35.0</td>\n      <td>6.2</td>\n      <td>6.2</td>\n      <td>2.6</td>\n      <td>4.8</td>\n      <td>8.3</td>\n    </tr>\n    <tr>\n      <th>3</th>\n      <td>15.934292</td>\n      <td>35.0</td>\n      <td>5.4</td>\n      <td>7.6</td>\n      <td>4.9</td>\n      <td>2.5</td>\n      <td>6.7</td>\n    </tr>\n    <tr>\n      <th>4</th>\n      <td>8.410678</td>\n      <td>32.0</td>\n      <td>3.0</td>\n      <td>4.1</td>\n      <td>8.0</td>\n      <td>7.1</td>\n      <td>3.7</td>\n    </tr>\n    <tr>\n      <th>...</th>\n      <td>...</td>\n      <td>...</td>\n      <td>...</td>\n      <td>...</td>\n      <td>...</td>\n      <td>...</td>\n      <td>...</td>\n    </tr>\n    <tr>\n      <th>1124</th>\n      <td>10.611910</td>\n      <td>41.0</td>\n      <td>8.6</td>\n      <td>3.4</td>\n      <td>2.6</td>\n      <td>4.8</td>\n      <td>8.3</td>\n    </tr>\n    <tr>\n      <th>1125</th>\n      <td>10.611910</td>\n      <td>41.0</td>\n      <td>8.6</td>\n      <td>3.4</td>\n      <td>2.6</td>\n      <td>4.8</td>\n      <td>8.3</td>\n    </tr>\n    <tr>\n      <th>1126</th>\n      <td>118.800821</td>\n      <td>34.0</td>\n      <td>4.6</td>\n      <td>5.5</td>\n      <td>7.2</td>\n      <td>6.3</td>\n      <td>3.7</td>\n    </tr>\n    <tr>\n      <th>1127</th>\n      <td>49.412731</td>\n      <td>51.0</td>\n      <td>3.8</td>\n      <td>7.6</td>\n      <td>5.7</td>\n      <td>6.3</td>\n      <td>5.2</td>\n    </tr>\n    <tr>\n      <th>1128</th>\n      <td>24.837782</td>\n      <td>29.0</td>\n      <td>9.4</td>\n      <td>1.2</td>\n      <td>4.1</td>\n      <td>5.6</td>\n      <td>6.7</td>\n    </tr>\n  </tbody>\n</table>\n<p>1129 rows × 7 columns</p>\n</div>"
     },
     "execution_count": 87,
     "metadata": {},
     "output_type": "execute_result"
    }
   ],
   "source": [
    "import plotly.express as px\n",
    "df3=df.copy()\n",
    "df3=df3.drop(['event','gender','coach','head_gender','greywage','way','industry','profession','traffic'], axis=1)\n",
    "df3"
   ],
   "metadata": {
    "collapsed": false,
    "ExecuteTime": {
     "end_time": "2024-06-18T20:15:01.423610200Z",
     "start_time": "2024-06-18T20:15:01.343749Z"
    }
   },
   "id": "55e259c0225f3108",
   "execution_count": 87
  },
  {
   "cell_type": "code",
   "outputs": [
    {
     "data": {
      "application/vnd.plotly.v1+json": {
       "data": [
        {
         "coloraxis": "coloraxis",
         "name": "0",
         "texttemplate": "%{z}",
         "x": [
          "stag",
          "age",
          "extraversion",
          "independ",
          "selfcontrol",
          "anxiety",
          "novator"
         ],
         "y": [
          "stag",
          "age",
          "extraversion",
          "independ",
          "selfcontrol",
          "anxiety",
          "novator"
         ],
         "z": [
          [
           1.0,
           -0.2,
           -0.09,
           0.0,
           0.08,
           0.01,
           -0.04
          ],
          [
           -0.2,
           1.0,
           -0.15,
           0.06,
           0.04,
           0.06,
           0.04
          ],
          [
           -0.09,
           -0.15,
           1.0,
           -0.2,
           -0.54,
           -0.14,
           0.3
          ],
          [
           0.0,
           0.06,
           -0.2,
           1.0,
           -0.17,
           -0.43,
           0.02
          ],
          [
           0.08,
           0.04,
           -0.54,
           -0.17,
           1.0,
           -0.11,
           -0.57
          ],
          [
           0.01,
           0.06,
           -0.14,
           -0.43,
           -0.11,
           1.0,
           0.25
          ],
          [
           -0.04,
           0.04,
           0.3,
           0.02,
           -0.57,
           0.25,
           1.0
          ]
         ],
         "type": "heatmap",
         "xaxis": "x",
         "yaxis": "y",
         "hovertemplate": "x: %{x}<br>y: %{y}<br>Correlation: %{z}<extra></extra>"
        }
       ],
       "layout": {
        "template": {
         "data": {
          "histogram2dcontour": [
           {
            "type": "histogram2dcontour",
            "colorbar": {
             "outlinewidth": 0,
             "ticks": ""
            },
            "colorscale": [
             [
              0.0,
              "#0d0887"
             ],
             [
              0.1111111111111111,
              "#46039f"
             ],
             [
              0.2222222222222222,
              "#7201a8"
             ],
             [
              0.3333333333333333,
              "#9c179e"
             ],
             [
              0.4444444444444444,
              "#bd3786"
             ],
             [
              0.5555555555555556,
              "#d8576b"
             ],
             [
              0.6666666666666666,
              "#ed7953"
             ],
             [
              0.7777777777777778,
              "#fb9f3a"
             ],
             [
              0.8888888888888888,
              "#fdca26"
             ],
             [
              1.0,
              "#f0f921"
             ]
            ]
           }
          ],
          "choropleth": [
           {
            "type": "choropleth",
            "colorbar": {
             "outlinewidth": 0,
             "ticks": ""
            }
           }
          ],
          "histogram2d": [
           {
            "type": "histogram2d",
            "colorbar": {
             "outlinewidth": 0,
             "ticks": ""
            },
            "colorscale": [
             [
              0.0,
              "#0d0887"
             ],
             [
              0.1111111111111111,
              "#46039f"
             ],
             [
              0.2222222222222222,
              "#7201a8"
             ],
             [
              0.3333333333333333,
              "#9c179e"
             ],
             [
              0.4444444444444444,
              "#bd3786"
             ],
             [
              0.5555555555555556,
              "#d8576b"
             ],
             [
              0.6666666666666666,
              "#ed7953"
             ],
             [
              0.7777777777777778,
              "#fb9f3a"
             ],
             [
              0.8888888888888888,
              "#fdca26"
             ],
             [
              1.0,
              "#f0f921"
             ]
            ]
           }
          ],
          "heatmap": [
           {
            "type": "heatmap",
            "colorbar": {
             "outlinewidth": 0,
             "ticks": ""
            },
            "colorscale": [
             [
              0.0,
              "#0d0887"
             ],
             [
              0.1111111111111111,
              "#46039f"
             ],
             [
              0.2222222222222222,
              "#7201a8"
             ],
             [
              0.3333333333333333,
              "#9c179e"
             ],
             [
              0.4444444444444444,
              "#bd3786"
             ],
             [
              0.5555555555555556,
              "#d8576b"
             ],
             [
              0.6666666666666666,
              "#ed7953"
             ],
             [
              0.7777777777777778,
              "#fb9f3a"
             ],
             [
              0.8888888888888888,
              "#fdca26"
             ],
             [
              1.0,
              "#f0f921"
             ]
            ]
           }
          ],
          "heatmapgl": [
           {
            "type": "heatmapgl",
            "colorbar": {
             "outlinewidth": 0,
             "ticks": ""
            },
            "colorscale": [
             [
              0.0,
              "#0d0887"
             ],
             [
              0.1111111111111111,
              "#46039f"
             ],
             [
              0.2222222222222222,
              "#7201a8"
             ],
             [
              0.3333333333333333,
              "#9c179e"
             ],
             [
              0.4444444444444444,
              "#bd3786"
             ],
             [
              0.5555555555555556,
              "#d8576b"
             ],
             [
              0.6666666666666666,
              "#ed7953"
             ],
             [
              0.7777777777777778,
              "#fb9f3a"
             ],
             [
              0.8888888888888888,
              "#fdca26"
             ],
             [
              1.0,
              "#f0f921"
             ]
            ]
           }
          ],
          "contourcarpet": [
           {
            "type": "contourcarpet",
            "colorbar": {
             "outlinewidth": 0,
             "ticks": ""
            }
           }
          ],
          "contour": [
           {
            "type": "contour",
            "colorbar": {
             "outlinewidth": 0,
             "ticks": ""
            },
            "colorscale": [
             [
              0.0,
              "#0d0887"
             ],
             [
              0.1111111111111111,
              "#46039f"
             ],
             [
              0.2222222222222222,
              "#7201a8"
             ],
             [
              0.3333333333333333,
              "#9c179e"
             ],
             [
              0.4444444444444444,
              "#bd3786"
             ],
             [
              0.5555555555555556,
              "#d8576b"
             ],
             [
              0.6666666666666666,
              "#ed7953"
             ],
             [
              0.7777777777777778,
              "#fb9f3a"
             ],
             [
              0.8888888888888888,
              "#fdca26"
             ],
             [
              1.0,
              "#f0f921"
             ]
            ]
           }
          ],
          "surface": [
           {
            "type": "surface",
            "colorbar": {
             "outlinewidth": 0,
             "ticks": ""
            },
            "colorscale": [
             [
              0.0,
              "#0d0887"
             ],
             [
              0.1111111111111111,
              "#46039f"
             ],
             [
              0.2222222222222222,
              "#7201a8"
             ],
             [
              0.3333333333333333,
              "#9c179e"
             ],
             [
              0.4444444444444444,
              "#bd3786"
             ],
             [
              0.5555555555555556,
              "#d8576b"
             ],
             [
              0.6666666666666666,
              "#ed7953"
             ],
             [
              0.7777777777777778,
              "#fb9f3a"
             ],
             [
              0.8888888888888888,
              "#fdca26"
             ],
             [
              1.0,
              "#f0f921"
             ]
            ]
           }
          ],
          "mesh3d": [
           {
            "type": "mesh3d",
            "colorbar": {
             "outlinewidth": 0,
             "ticks": ""
            }
           }
          ],
          "scatter": [
           {
            "fillpattern": {
             "fillmode": "overlay",
             "size": 10,
             "solidity": 0.2
            },
            "type": "scatter"
           }
          ],
          "parcoords": [
           {
            "type": "parcoords",
            "line": {
             "colorbar": {
              "outlinewidth": 0,
              "ticks": ""
             }
            }
           }
          ],
          "scatterpolargl": [
           {
            "type": "scatterpolargl",
            "marker": {
             "colorbar": {
              "outlinewidth": 0,
              "ticks": ""
             }
            }
           }
          ],
          "bar": [
           {
            "error_x": {
             "color": "#2a3f5f"
            },
            "error_y": {
             "color": "#2a3f5f"
            },
            "marker": {
             "line": {
              "color": "#E5ECF6",
              "width": 0.5
             },
             "pattern": {
              "fillmode": "overlay",
              "size": 10,
              "solidity": 0.2
             }
            },
            "type": "bar"
           }
          ],
          "scattergeo": [
           {
            "type": "scattergeo",
            "marker": {
             "colorbar": {
              "outlinewidth": 0,
              "ticks": ""
             }
            }
           }
          ],
          "scatterpolar": [
           {
            "type": "scatterpolar",
            "marker": {
             "colorbar": {
              "outlinewidth": 0,
              "ticks": ""
             }
            }
           }
          ],
          "histogram": [
           {
            "marker": {
             "pattern": {
              "fillmode": "overlay",
              "size": 10,
              "solidity": 0.2
             }
            },
            "type": "histogram"
           }
          ],
          "scattergl": [
           {
            "type": "scattergl",
            "marker": {
             "colorbar": {
              "outlinewidth": 0,
              "ticks": ""
             }
            }
           }
          ],
          "scatter3d": [
           {
            "type": "scatter3d",
            "line": {
             "colorbar": {
              "outlinewidth": 0,
              "ticks": ""
             }
            },
            "marker": {
             "colorbar": {
              "outlinewidth": 0,
              "ticks": ""
             }
            }
           }
          ],
          "scattermapbox": [
           {
            "type": "scattermapbox",
            "marker": {
             "colorbar": {
              "outlinewidth": 0,
              "ticks": ""
             }
            }
           }
          ],
          "scatterternary": [
           {
            "type": "scatterternary",
            "marker": {
             "colorbar": {
              "outlinewidth": 0,
              "ticks": ""
             }
            }
           }
          ],
          "scattercarpet": [
           {
            "type": "scattercarpet",
            "marker": {
             "colorbar": {
              "outlinewidth": 0,
              "ticks": ""
             }
            }
           }
          ],
          "carpet": [
           {
            "aaxis": {
             "endlinecolor": "#2a3f5f",
             "gridcolor": "white",
             "linecolor": "white",
             "minorgridcolor": "white",
             "startlinecolor": "#2a3f5f"
            },
            "baxis": {
             "endlinecolor": "#2a3f5f",
             "gridcolor": "white",
             "linecolor": "white",
             "minorgridcolor": "white",
             "startlinecolor": "#2a3f5f"
            },
            "type": "carpet"
           }
          ],
          "table": [
           {
            "cells": {
             "fill": {
              "color": "#EBF0F8"
             },
             "line": {
              "color": "white"
             }
            },
            "header": {
             "fill": {
              "color": "#C8D4E3"
             },
             "line": {
              "color": "white"
             }
            },
            "type": "table"
           }
          ],
          "barpolar": [
           {
            "marker": {
             "line": {
              "color": "#E5ECF6",
              "width": 0.5
             },
             "pattern": {
              "fillmode": "overlay",
              "size": 10,
              "solidity": 0.2
             }
            },
            "type": "barpolar"
           }
          ],
          "pie": [
           {
            "automargin": true,
            "type": "pie"
           }
          ]
         },
         "layout": {
          "autotypenumbers": "strict",
          "colorway": [
           "#636efa",
           "#EF553B",
           "#00cc96",
           "#ab63fa",
           "#FFA15A",
           "#19d3f3",
           "#FF6692",
           "#B6E880",
           "#FF97FF",
           "#FECB52"
          ],
          "font": {
           "color": "#2a3f5f"
          },
          "hovermode": "closest",
          "hoverlabel": {
           "align": "left"
          },
          "paper_bgcolor": "white",
          "plot_bgcolor": "#E5ECF6",
          "polar": {
           "bgcolor": "#E5ECF6",
           "angularaxis": {
            "gridcolor": "white",
            "linecolor": "white",
            "ticks": ""
           },
           "radialaxis": {
            "gridcolor": "white",
            "linecolor": "white",
            "ticks": ""
           }
          },
          "ternary": {
           "bgcolor": "#E5ECF6",
           "aaxis": {
            "gridcolor": "white",
            "linecolor": "white",
            "ticks": ""
           },
           "baxis": {
            "gridcolor": "white",
            "linecolor": "white",
            "ticks": ""
           },
           "caxis": {
            "gridcolor": "white",
            "linecolor": "white",
            "ticks": ""
           }
          },
          "coloraxis": {
           "colorbar": {
            "outlinewidth": 0,
            "ticks": ""
           }
          },
          "colorscale": {
           "sequential": [
            [
             0.0,
             "#0d0887"
            ],
            [
             0.1111111111111111,
             "#46039f"
            ],
            [
             0.2222222222222222,
             "#7201a8"
            ],
            [
             0.3333333333333333,
             "#9c179e"
            ],
            [
             0.4444444444444444,
             "#bd3786"
            ],
            [
             0.5555555555555556,
             "#d8576b"
            ],
            [
             0.6666666666666666,
             "#ed7953"
            ],
            [
             0.7777777777777778,
             "#fb9f3a"
            ],
            [
             0.8888888888888888,
             "#fdca26"
            ],
            [
             1.0,
             "#f0f921"
            ]
           ],
           "sequentialminus": [
            [
             0.0,
             "#0d0887"
            ],
            [
             0.1111111111111111,
             "#46039f"
            ],
            [
             0.2222222222222222,
             "#7201a8"
            ],
            [
             0.3333333333333333,
             "#9c179e"
            ],
            [
             0.4444444444444444,
             "#bd3786"
            ],
            [
             0.5555555555555556,
             "#d8576b"
            ],
            [
             0.6666666666666666,
             "#ed7953"
            ],
            [
             0.7777777777777778,
             "#fb9f3a"
            ],
            [
             0.8888888888888888,
             "#fdca26"
            ],
            [
             1.0,
             "#f0f921"
            ]
           ],
           "diverging": [
            [
             0,
             "#8e0152"
            ],
            [
             0.1,
             "#c51b7d"
            ],
            [
             0.2,
             "#de77ae"
            ],
            [
             0.3,
             "#f1b6da"
            ],
            [
             0.4,
             "#fde0ef"
            ],
            [
             0.5,
             "#f7f7f7"
            ],
            [
             0.6,
             "#e6f5d0"
            ],
            [
             0.7,
             "#b8e186"
            ],
            [
             0.8,
             "#7fbc41"
            ],
            [
             0.9,
             "#4d9221"
            ],
            [
             1,
             "#276419"
            ]
           ]
          },
          "xaxis": {
           "gridcolor": "white",
           "linecolor": "white",
           "ticks": "",
           "title": {
            "standoff": 15
           },
           "zerolinecolor": "white",
           "automargin": true,
           "zerolinewidth": 2
          },
          "yaxis": {
           "gridcolor": "white",
           "linecolor": "white",
           "ticks": "",
           "title": {
            "standoff": 15
           },
           "zerolinecolor": "white",
           "automargin": true,
           "zerolinewidth": 2
          },
          "scene": {
           "xaxis": {
            "backgroundcolor": "#E5ECF6",
            "gridcolor": "white",
            "linecolor": "white",
            "showbackground": true,
            "ticks": "",
            "zerolinecolor": "white",
            "gridwidth": 2
           },
           "yaxis": {
            "backgroundcolor": "#E5ECF6",
            "gridcolor": "white",
            "linecolor": "white",
            "showbackground": true,
            "ticks": "",
            "zerolinecolor": "white",
            "gridwidth": 2
           },
           "zaxis": {
            "backgroundcolor": "#E5ECF6",
            "gridcolor": "white",
            "linecolor": "white",
            "showbackground": true,
            "ticks": "",
            "zerolinecolor": "white",
            "gridwidth": 2
           }
          },
          "shapedefaults": {
           "line": {
            "color": "#2a3f5f"
           }
          },
          "annotationdefaults": {
           "arrowcolor": "#2a3f5f",
           "arrowhead": 0,
           "arrowwidth": 1
          },
          "geo": {
           "bgcolor": "white",
           "landcolor": "#E5ECF6",
           "subunitcolor": "white",
           "showland": true,
           "showlakes": true,
           "lakecolor": "white"
          },
          "title": {
           "x": 0.05
          },
          "mapbox": {
           "style": "light"
          }
         }
        },
        "xaxis": {
         "anchor": "y",
         "domain": [
          0.0,
          1.0
         ],
         "scaleanchor": "y",
         "constrain": "domain"
        },
        "yaxis": {
         "anchor": "x",
         "domain": [
          0.0,
          1.0
         ],
         "autorange": "reversed",
         "constrain": "domain"
        },
        "coloraxis": {
         "colorbar": {
          "title": {
           "text": "Correlation"
          }
         },
         "colorscale": [
          [
           0.0,
           "#0d0887"
          ],
          [
           0.1111111111111111,
           "#46039f"
          ],
          [
           0.2222222222222222,
           "#7201a8"
          ],
          [
           0.3333333333333333,
           "#9c179e"
          ],
          [
           0.4444444444444444,
           "#bd3786"
          ],
          [
           0.5555555555555556,
           "#d8576b"
          ],
          [
           0.6666666666666666,
           "#ed7953"
          ],
          [
           0.7777777777777778,
           "#fb9f3a"
          ],
          [
           0.8888888888888888,
           "#fdca26"
          ],
          [
           1.0,
           "#f0f921"
          ]
         ]
        },
        "margin": {
         "t": 60
        },
        "height": 600,
        "width": 600
       },
       "config": {
        "plotlyServerURL": "https://plot.ly"
       }
      },
      "text/html": "<div>                            <div id=\"d9f07447-dae2-4329-9215-daabc9312d0f\" class=\"plotly-graph-div\" style=\"height:600px; width:600px;\"></div>            <script type=\"text/javascript\">                require([\"plotly\"], function(Plotly) {                    window.PLOTLYENV=window.PLOTLYENV || {};                                    if (document.getElementById(\"d9f07447-dae2-4329-9215-daabc9312d0f\")) {                    Plotly.newPlot(                        \"d9f07447-dae2-4329-9215-daabc9312d0f\",                        [{\"coloraxis\":\"coloraxis\",\"name\":\"0\",\"texttemplate\":\"%{z}\",\"x\":[\"stag\",\"age\",\"extraversion\",\"independ\",\"selfcontrol\",\"anxiety\",\"novator\"],\"y\":[\"stag\",\"age\",\"extraversion\",\"independ\",\"selfcontrol\",\"anxiety\",\"novator\"],\"z\":[[1.0,-0.2,-0.09,0.0,0.08,0.01,-0.04],[-0.2,1.0,-0.15,0.06,0.04,0.06,0.04],[-0.09,-0.15,1.0,-0.2,-0.54,-0.14,0.3],[0.0,0.06,-0.2,1.0,-0.17,-0.43,0.02],[0.08,0.04,-0.54,-0.17,1.0,-0.11,-0.57],[0.01,0.06,-0.14,-0.43,-0.11,1.0,0.25],[-0.04,0.04,0.3,0.02,-0.57,0.25,1.0]],\"type\":\"heatmap\",\"xaxis\":\"x\",\"yaxis\":\"y\",\"hovertemplate\":\"x: %{x}<br>y: %{y}<br>Correlation: %{z}<extra></extra>\"}],                        {\"template\":{\"data\":{\"histogram2dcontour\":[{\"type\":\"histogram2dcontour\",\"colorbar\":{\"outlinewidth\":0,\"ticks\":\"\"},\"colorscale\":[[0.0,\"#0d0887\"],[0.1111111111111111,\"#46039f\"],[0.2222222222222222,\"#7201a8\"],[0.3333333333333333,\"#9c179e\"],[0.4444444444444444,\"#bd3786\"],[0.5555555555555556,\"#d8576b\"],[0.6666666666666666,\"#ed7953\"],[0.7777777777777778,\"#fb9f3a\"],[0.8888888888888888,\"#fdca26\"],[1.0,\"#f0f921\"]]}],\"choropleth\":[{\"type\":\"choropleth\",\"colorbar\":{\"outlinewidth\":0,\"ticks\":\"\"}}],\"histogram2d\":[{\"type\":\"histogram2d\",\"colorbar\":{\"outlinewidth\":0,\"ticks\":\"\"},\"colorscale\":[[0.0,\"#0d0887\"],[0.1111111111111111,\"#46039f\"],[0.2222222222222222,\"#7201a8\"],[0.3333333333333333,\"#9c179e\"],[0.4444444444444444,\"#bd3786\"],[0.5555555555555556,\"#d8576b\"],[0.6666666666666666,\"#ed7953\"],[0.7777777777777778,\"#fb9f3a\"],[0.8888888888888888,\"#fdca26\"],[1.0,\"#f0f921\"]]}],\"heatmap\":[{\"type\":\"heatmap\",\"colorbar\":{\"outlinewidth\":0,\"ticks\":\"\"},\"colorscale\":[[0.0,\"#0d0887\"],[0.1111111111111111,\"#46039f\"],[0.2222222222222222,\"#7201a8\"],[0.3333333333333333,\"#9c179e\"],[0.4444444444444444,\"#bd3786\"],[0.5555555555555556,\"#d8576b\"],[0.6666666666666666,\"#ed7953\"],[0.7777777777777778,\"#fb9f3a\"],[0.8888888888888888,\"#fdca26\"],[1.0,\"#f0f921\"]]}],\"heatmapgl\":[{\"type\":\"heatmapgl\",\"colorbar\":{\"outlinewidth\":0,\"ticks\":\"\"},\"colorscale\":[[0.0,\"#0d0887\"],[0.1111111111111111,\"#46039f\"],[0.2222222222222222,\"#7201a8\"],[0.3333333333333333,\"#9c179e\"],[0.4444444444444444,\"#bd3786\"],[0.5555555555555556,\"#d8576b\"],[0.6666666666666666,\"#ed7953\"],[0.7777777777777778,\"#fb9f3a\"],[0.8888888888888888,\"#fdca26\"],[1.0,\"#f0f921\"]]}],\"contourcarpet\":[{\"type\":\"contourcarpet\",\"colorbar\":{\"outlinewidth\":0,\"ticks\":\"\"}}],\"contour\":[{\"type\":\"contour\",\"colorbar\":{\"outlinewidth\":0,\"ticks\":\"\"},\"colorscale\":[[0.0,\"#0d0887\"],[0.1111111111111111,\"#46039f\"],[0.2222222222222222,\"#7201a8\"],[0.3333333333333333,\"#9c179e\"],[0.4444444444444444,\"#bd3786\"],[0.5555555555555556,\"#d8576b\"],[0.6666666666666666,\"#ed7953\"],[0.7777777777777778,\"#fb9f3a\"],[0.8888888888888888,\"#fdca26\"],[1.0,\"#f0f921\"]]}],\"surface\":[{\"type\":\"surface\",\"colorbar\":{\"outlinewidth\":0,\"ticks\":\"\"},\"colorscale\":[[0.0,\"#0d0887\"],[0.1111111111111111,\"#46039f\"],[0.2222222222222222,\"#7201a8\"],[0.3333333333333333,\"#9c179e\"],[0.4444444444444444,\"#bd3786\"],[0.5555555555555556,\"#d8576b\"],[0.6666666666666666,\"#ed7953\"],[0.7777777777777778,\"#fb9f3a\"],[0.8888888888888888,\"#fdca26\"],[1.0,\"#f0f921\"]]}],\"mesh3d\":[{\"type\":\"mesh3d\",\"colorbar\":{\"outlinewidth\":0,\"ticks\":\"\"}}],\"scatter\":[{\"fillpattern\":{\"fillmode\":\"overlay\",\"size\":10,\"solidity\":0.2},\"type\":\"scatter\"}],\"parcoords\":[{\"type\":\"parcoords\",\"line\":{\"colorbar\":{\"outlinewidth\":0,\"ticks\":\"\"}}}],\"scatterpolargl\":[{\"type\":\"scatterpolargl\",\"marker\":{\"colorbar\":{\"outlinewidth\":0,\"ticks\":\"\"}}}],\"bar\":[{\"error_x\":{\"color\":\"#2a3f5f\"},\"error_y\":{\"color\":\"#2a3f5f\"},\"marker\":{\"line\":{\"color\":\"#E5ECF6\",\"width\":0.5},\"pattern\":{\"fillmode\":\"overlay\",\"size\":10,\"solidity\":0.2}},\"type\":\"bar\"}],\"scattergeo\":[{\"type\":\"scattergeo\",\"marker\":{\"colorbar\":{\"outlinewidth\":0,\"ticks\":\"\"}}}],\"scatterpolar\":[{\"type\":\"scatterpolar\",\"marker\":{\"colorbar\":{\"outlinewidth\":0,\"ticks\":\"\"}}}],\"histogram\":[{\"marker\":{\"pattern\":{\"fillmode\":\"overlay\",\"size\":10,\"solidity\":0.2}},\"type\":\"histogram\"}],\"scattergl\":[{\"type\":\"scattergl\",\"marker\":{\"colorbar\":{\"outlinewidth\":0,\"ticks\":\"\"}}}],\"scatter3d\":[{\"type\":\"scatter3d\",\"line\":{\"colorbar\":{\"outlinewidth\":0,\"ticks\":\"\"}},\"marker\":{\"colorbar\":{\"outlinewidth\":0,\"ticks\":\"\"}}}],\"scattermapbox\":[{\"type\":\"scattermapbox\",\"marker\":{\"colorbar\":{\"outlinewidth\":0,\"ticks\":\"\"}}}],\"scatterternary\":[{\"type\":\"scatterternary\",\"marker\":{\"colorbar\":{\"outlinewidth\":0,\"ticks\":\"\"}}}],\"scattercarpet\":[{\"type\":\"scattercarpet\",\"marker\":{\"colorbar\":{\"outlinewidth\":0,\"ticks\":\"\"}}}],\"carpet\":[{\"aaxis\":{\"endlinecolor\":\"#2a3f5f\",\"gridcolor\":\"white\",\"linecolor\":\"white\",\"minorgridcolor\":\"white\",\"startlinecolor\":\"#2a3f5f\"},\"baxis\":{\"endlinecolor\":\"#2a3f5f\",\"gridcolor\":\"white\",\"linecolor\":\"white\",\"minorgridcolor\":\"white\",\"startlinecolor\":\"#2a3f5f\"},\"type\":\"carpet\"}],\"table\":[{\"cells\":{\"fill\":{\"color\":\"#EBF0F8\"},\"line\":{\"color\":\"white\"}},\"header\":{\"fill\":{\"color\":\"#C8D4E3\"},\"line\":{\"color\":\"white\"}},\"type\":\"table\"}],\"barpolar\":[{\"marker\":{\"line\":{\"color\":\"#E5ECF6\",\"width\":0.5},\"pattern\":{\"fillmode\":\"overlay\",\"size\":10,\"solidity\":0.2}},\"type\":\"barpolar\"}],\"pie\":[{\"automargin\":true,\"type\":\"pie\"}]},\"layout\":{\"autotypenumbers\":\"strict\",\"colorway\":[\"#636efa\",\"#EF553B\",\"#00cc96\",\"#ab63fa\",\"#FFA15A\",\"#19d3f3\",\"#FF6692\",\"#B6E880\",\"#FF97FF\",\"#FECB52\"],\"font\":{\"color\":\"#2a3f5f\"},\"hovermode\":\"closest\",\"hoverlabel\":{\"align\":\"left\"},\"paper_bgcolor\":\"white\",\"plot_bgcolor\":\"#E5ECF6\",\"polar\":{\"bgcolor\":\"#E5ECF6\",\"angularaxis\":{\"gridcolor\":\"white\",\"linecolor\":\"white\",\"ticks\":\"\"},\"radialaxis\":{\"gridcolor\":\"white\",\"linecolor\":\"white\",\"ticks\":\"\"}},\"ternary\":{\"bgcolor\":\"#E5ECF6\",\"aaxis\":{\"gridcolor\":\"white\",\"linecolor\":\"white\",\"ticks\":\"\"},\"baxis\":{\"gridcolor\":\"white\",\"linecolor\":\"white\",\"ticks\":\"\"},\"caxis\":{\"gridcolor\":\"white\",\"linecolor\":\"white\",\"ticks\":\"\"}},\"coloraxis\":{\"colorbar\":{\"outlinewidth\":0,\"ticks\":\"\"}},\"colorscale\":{\"sequential\":[[0.0,\"#0d0887\"],[0.1111111111111111,\"#46039f\"],[0.2222222222222222,\"#7201a8\"],[0.3333333333333333,\"#9c179e\"],[0.4444444444444444,\"#bd3786\"],[0.5555555555555556,\"#d8576b\"],[0.6666666666666666,\"#ed7953\"],[0.7777777777777778,\"#fb9f3a\"],[0.8888888888888888,\"#fdca26\"],[1.0,\"#f0f921\"]],\"sequentialminus\":[[0.0,\"#0d0887\"],[0.1111111111111111,\"#46039f\"],[0.2222222222222222,\"#7201a8\"],[0.3333333333333333,\"#9c179e\"],[0.4444444444444444,\"#bd3786\"],[0.5555555555555556,\"#d8576b\"],[0.6666666666666666,\"#ed7953\"],[0.7777777777777778,\"#fb9f3a\"],[0.8888888888888888,\"#fdca26\"],[1.0,\"#f0f921\"]],\"diverging\":[[0,\"#8e0152\"],[0.1,\"#c51b7d\"],[0.2,\"#de77ae\"],[0.3,\"#f1b6da\"],[0.4,\"#fde0ef\"],[0.5,\"#f7f7f7\"],[0.6,\"#e6f5d0\"],[0.7,\"#b8e186\"],[0.8,\"#7fbc41\"],[0.9,\"#4d9221\"],[1,\"#276419\"]]},\"xaxis\":{\"gridcolor\":\"white\",\"linecolor\":\"white\",\"ticks\":\"\",\"title\":{\"standoff\":15},\"zerolinecolor\":\"white\",\"automargin\":true,\"zerolinewidth\":2},\"yaxis\":{\"gridcolor\":\"white\",\"linecolor\":\"white\",\"ticks\":\"\",\"title\":{\"standoff\":15},\"zerolinecolor\":\"white\",\"automargin\":true,\"zerolinewidth\":2},\"scene\":{\"xaxis\":{\"backgroundcolor\":\"#E5ECF6\",\"gridcolor\":\"white\",\"linecolor\":\"white\",\"showbackground\":true,\"ticks\":\"\",\"zerolinecolor\":\"white\",\"gridwidth\":2},\"yaxis\":{\"backgroundcolor\":\"#E5ECF6\",\"gridcolor\":\"white\",\"linecolor\":\"white\",\"showbackground\":true,\"ticks\":\"\",\"zerolinecolor\":\"white\",\"gridwidth\":2},\"zaxis\":{\"backgroundcolor\":\"#E5ECF6\",\"gridcolor\":\"white\",\"linecolor\":\"white\",\"showbackground\":true,\"ticks\":\"\",\"zerolinecolor\":\"white\",\"gridwidth\":2}},\"shapedefaults\":{\"line\":{\"color\":\"#2a3f5f\"}},\"annotationdefaults\":{\"arrowcolor\":\"#2a3f5f\",\"arrowhead\":0,\"arrowwidth\":1},\"geo\":{\"bgcolor\":\"white\",\"landcolor\":\"#E5ECF6\",\"subunitcolor\":\"white\",\"showland\":true,\"showlakes\":true,\"lakecolor\":\"white\"},\"title\":{\"x\":0.05},\"mapbox\":{\"style\":\"light\"}}},\"xaxis\":{\"anchor\":\"y\",\"domain\":[0.0,1.0],\"scaleanchor\":\"y\",\"constrain\":\"domain\"},\"yaxis\":{\"anchor\":\"x\",\"domain\":[0.0,1.0],\"autorange\":\"reversed\",\"constrain\":\"domain\"},\"coloraxis\":{\"colorbar\":{\"title\":{\"text\":\"Correlation\"}},\"colorscale\":[[0.0,\"#0d0887\"],[0.1111111111111111,\"#46039f\"],[0.2222222222222222,\"#7201a8\"],[0.3333333333333333,\"#9c179e\"],[0.4444444444444444,\"#bd3786\"],[0.5555555555555556,\"#d8576b\"],[0.6666666666666666,\"#ed7953\"],[0.7777777777777778,\"#fb9f3a\"],[0.8888888888888888,\"#fdca26\"],[1.0,\"#f0f921\"]]},\"margin\":{\"t\":60},\"height\":600,\"width\":600},                        {\"responsive\": true}                    ).then(function(){\n                            \nvar gd = document.getElementById('d9f07447-dae2-4329-9215-daabc9312d0f');\nvar x = new MutationObserver(function (mutations, observer) {{\n        var display = window.getComputedStyle(gd).display;\n        if (!display || display === 'none') {{\n            console.log([gd, 'removed!']);\n            Plotly.purge(gd);\n            observer.disconnect();\n        }}\n}});\n\n// Listen for the removal of the full notebook cells\nvar notebookContainer = gd.closest('#notebook-container');\nif (notebookContainer) {{\n    x.observe(notebookContainer, {childList: true});\n}}\n\n// Listen for the clearing of the current output cell\nvar outputEl = gd.closest('.output');\nif (outputEl) {{\n    x.observe(outputEl, {childList: true});\n}}\n\n                        })                };                });            </script>        </div>"
     },
     "metadata": {},
     "output_type": "display_data"
    }
   ],
   "source": [
    "df_corr = df3.corr().round(2)\n",
    "fig = px.imshow(df_corr, text_auto = True, labels=dict(color=\"Correlation\"), width=600, height=600)\n",
    "fig.show()"
   ],
   "metadata": {
    "collapsed": false,
    "ExecuteTime": {
     "end_time": "2024-06-18T20:15:56.564031800Z",
     "start_time": "2024-06-18T20:15:56.477981700Z"
    }
   },
   "id": "7b3eeb06ddf6d979",
   "execution_count": 90
  },
  {
   "cell_type": "code",
   "outputs": [
    {
     "name": "stdout",
     "output_type": "stream",
     "text": [
      "0 _components []\n",
      "1 _components [0.95]\n",
      "2 _components [0.95 0.04]\n",
      "3 _components [0.95 0.04 0.01]\n",
      "4 _components [0.95 0.04 0.01 0.  ]\n",
      "5 _components [0.95 0.04 0.01 0.   0.  ]\n",
      "6 _components [0.95 0.04 0.01 0.   0.   0.  ]\n",
      "7 _components [0.95 0.04 0.01 0.   0.   0.   0.  ]\n",
      "8 _components [0.95 0.04 0.01 0.   0.   0.   0.   0.  ]\n",
      "9 _components [0.95 0.04 0.01 0.   0.   0.   0.   0.   0.  ]\n",
      "10 _components [0.95 0.04 0.01 0.   0.   0.   0.   0.   0.   0.  ]\n",
      "11 _components [0.95 0.04 0.01 0.   0.   0.   0.   0.   0.   0.   0.  ]\n",
      "12 _components [0.95 0.04 0.01 0.   0.   0.   0.   0.   0.   0.   0.   0.  ]\n",
      "13 _components [0.95 0.04 0.01 0.   0.   0.   0.   0.   0.   0.   0.   0.   0.  ]\n",
      "14 _components [0.95 0.04 0.01 0.   0.   0.   0.   0.   0.   0.   0.   0.   0.   0.  ]\n",
      "15 _components [0.95 0.04 0.01 0.   0.   0.   0.   0.   0.   0.   0.   0.   0.   0.\n",
      " 0.  ]\n"
     ]
    }
   ],
   "source": [
    "from sklearn.decomposition import PCA\n",
    "df4 = df2_encoded.copy()\n",
    "y = df4['event']\n",
    "df4 = df4.drop(['event'], axis=1)\n",
    "X= df4\n",
    "for i in range (0,16):\n",
    "    pca = PCA(n_components=i)\n",
    "    X_pca = pca.fit_transform(X)\n",
    "    print(i,'_components', (pca.explained_variance_ratio_).round(2))"
   ],
   "metadata": {
    "collapsed": false,
    "ExecuteTime": {
     "end_time": "2024-06-18T20:19:25.092364300Z",
     "start_time": "2024-06-18T20:19:24.972699600Z"
    }
   },
   "id": "aadd147f491e9079",
   "execution_count": 93
  },
  {
   "cell_type": "code",
   "outputs": [
    {
     "data": {
      "text/plain": "            stag  event  gender   age  industry  profession  traffic  coach  \\\n0       7.030801      1       1  35.0         0           0        1      0   \n1      22.965092      1       1  33.0         0           0        1      0   \n2      15.934292      1       0  35.0         1           0        1      0   \n3      15.934292      1       0  35.0         1           0        1      0   \n4       8.410678      1       1  32.0         0           0        0      1   \n...          ...    ...     ...   ...       ...         ...      ...    ...   \n1124   10.611910      0       0  41.0         0           0        1      1   \n1125   10.611910      0       0  41.0         0           0        1      1   \n1126  118.800821      0       0  34.0         0           1        0      0   \n1127   49.412731      0       0  51.0         0           0        1      0   \n1128   24.837782      0       0  29.0         0           0        0      0   \n\n      head_gender  greywage  way  extraversion  independ  selfcontrol  \\\n0               0         1    1           6.2       4.1          5.7   \n1               1         1    1           6.2       4.1          5.7   \n2               1         1    1           6.2       6.2          2.6   \n3               1         1    1           5.4       7.6          4.9   \n4               0         1    1           3.0       4.1          8.0   \n...           ...       ...  ...           ...       ...          ...   \n1124            1         1    1           8.6       3.4          2.6   \n1125            1         1    1           8.6       3.4          2.6   \n1126            0         1    1           4.6       5.5          7.2   \n1127            1         0    1           3.8       7.6          5.7   \n1128            0         1    2           9.4       1.2          4.1   \n\n      anxiety  novator  \n0         7.1      8.3  \n1         7.1      8.3  \n2         4.8      8.3  \n3         2.5      6.7  \n4         7.1      3.7  \n...       ...      ...  \n1124      4.8      8.3  \n1125      4.8      8.3  \n1126      6.3      3.7  \n1127      6.3      5.2  \n1128      5.6      6.7  \n\n[1129 rows x 16 columns]",
      "text/html": "<div>\n<style scoped>\n    .dataframe tbody tr th:only-of-type {\n        vertical-align: middle;\n    }\n\n    .dataframe tbody tr th {\n        vertical-align: top;\n    }\n\n    .dataframe thead th {\n        text-align: right;\n    }\n</style>\n<table border=\"1\" class=\"dataframe\">\n  <thead>\n    <tr style=\"text-align: right;\">\n      <th></th>\n      <th>stag</th>\n      <th>event</th>\n      <th>gender</th>\n      <th>age</th>\n      <th>industry</th>\n      <th>profession</th>\n      <th>traffic</th>\n      <th>coach</th>\n      <th>head_gender</th>\n      <th>greywage</th>\n      <th>way</th>\n      <th>extraversion</th>\n      <th>independ</th>\n      <th>selfcontrol</th>\n      <th>anxiety</th>\n      <th>novator</th>\n    </tr>\n  </thead>\n  <tbody>\n    <tr>\n      <th>0</th>\n      <td>7.030801</td>\n      <td>1</td>\n      <td>1</td>\n      <td>35.0</td>\n      <td>0</td>\n      <td>0</td>\n      <td>1</td>\n      <td>0</td>\n      <td>0</td>\n      <td>1</td>\n      <td>1</td>\n      <td>6.2</td>\n      <td>4.1</td>\n      <td>5.7</td>\n      <td>7.1</td>\n      <td>8.3</td>\n    </tr>\n    <tr>\n      <th>1</th>\n      <td>22.965092</td>\n      <td>1</td>\n      <td>1</td>\n      <td>33.0</td>\n      <td>0</td>\n      <td>0</td>\n      <td>1</td>\n      <td>0</td>\n      <td>1</td>\n      <td>1</td>\n      <td>1</td>\n      <td>6.2</td>\n      <td>4.1</td>\n      <td>5.7</td>\n      <td>7.1</td>\n      <td>8.3</td>\n    </tr>\n    <tr>\n      <th>2</th>\n      <td>15.934292</td>\n      <td>1</td>\n      <td>0</td>\n      <td>35.0</td>\n      <td>1</td>\n      <td>0</td>\n      <td>1</td>\n      <td>0</td>\n      <td>1</td>\n      <td>1</td>\n      <td>1</td>\n      <td>6.2</td>\n      <td>6.2</td>\n      <td>2.6</td>\n      <td>4.8</td>\n      <td>8.3</td>\n    </tr>\n    <tr>\n      <th>3</th>\n      <td>15.934292</td>\n      <td>1</td>\n      <td>0</td>\n      <td>35.0</td>\n      <td>1</td>\n      <td>0</td>\n      <td>1</td>\n      <td>0</td>\n      <td>1</td>\n      <td>1</td>\n      <td>1</td>\n      <td>5.4</td>\n      <td>7.6</td>\n      <td>4.9</td>\n      <td>2.5</td>\n      <td>6.7</td>\n    </tr>\n    <tr>\n      <th>4</th>\n      <td>8.410678</td>\n      <td>1</td>\n      <td>1</td>\n      <td>32.0</td>\n      <td>0</td>\n      <td>0</td>\n      <td>0</td>\n      <td>1</td>\n      <td>0</td>\n      <td>1</td>\n      <td>1</td>\n      <td>3.0</td>\n      <td>4.1</td>\n      <td>8.0</td>\n      <td>7.1</td>\n      <td>3.7</td>\n    </tr>\n    <tr>\n      <th>...</th>\n      <td>...</td>\n      <td>...</td>\n      <td>...</td>\n      <td>...</td>\n      <td>...</td>\n      <td>...</td>\n      <td>...</td>\n      <td>...</td>\n      <td>...</td>\n      <td>...</td>\n      <td>...</td>\n      <td>...</td>\n      <td>...</td>\n      <td>...</td>\n      <td>...</td>\n      <td>...</td>\n    </tr>\n    <tr>\n      <th>1124</th>\n      <td>10.611910</td>\n      <td>0</td>\n      <td>0</td>\n      <td>41.0</td>\n      <td>0</td>\n      <td>0</td>\n      <td>1</td>\n      <td>1</td>\n      <td>1</td>\n      <td>1</td>\n      <td>1</td>\n      <td>8.6</td>\n      <td>3.4</td>\n      <td>2.6</td>\n      <td>4.8</td>\n      <td>8.3</td>\n    </tr>\n    <tr>\n      <th>1125</th>\n      <td>10.611910</td>\n      <td>0</td>\n      <td>0</td>\n      <td>41.0</td>\n      <td>0</td>\n      <td>0</td>\n      <td>1</td>\n      <td>1</td>\n      <td>1</td>\n      <td>1</td>\n      <td>1</td>\n      <td>8.6</td>\n      <td>3.4</td>\n      <td>2.6</td>\n      <td>4.8</td>\n      <td>8.3</td>\n    </tr>\n    <tr>\n      <th>1126</th>\n      <td>118.800821</td>\n      <td>0</td>\n      <td>0</td>\n      <td>34.0</td>\n      <td>0</td>\n      <td>1</td>\n      <td>0</td>\n      <td>0</td>\n      <td>0</td>\n      <td>1</td>\n      <td>1</td>\n      <td>4.6</td>\n      <td>5.5</td>\n      <td>7.2</td>\n      <td>6.3</td>\n      <td>3.7</td>\n    </tr>\n    <tr>\n      <th>1127</th>\n      <td>49.412731</td>\n      <td>0</td>\n      <td>0</td>\n      <td>51.0</td>\n      <td>0</td>\n      <td>0</td>\n      <td>1</td>\n      <td>0</td>\n      <td>1</td>\n      <td>0</td>\n      <td>1</td>\n      <td>3.8</td>\n      <td>7.6</td>\n      <td>5.7</td>\n      <td>6.3</td>\n      <td>5.2</td>\n    </tr>\n    <tr>\n      <th>1128</th>\n      <td>24.837782</td>\n      <td>0</td>\n      <td>0</td>\n      <td>29.0</td>\n      <td>0</td>\n      <td>0</td>\n      <td>0</td>\n      <td>0</td>\n      <td>0</td>\n      <td>1</td>\n      <td>2</td>\n      <td>9.4</td>\n      <td>1.2</td>\n      <td>4.1</td>\n      <td>5.6</td>\n      <td>6.7</td>\n    </tr>\n  </tbody>\n</table>\n<p>1129 rows × 16 columns</p>\n</div>"
     },
     "execution_count": 136,
     "metadata": {},
     "output_type": "execute_result"
    }
   ],
   "source": [
    "df5=pd.read_csv('df2_encoded.csv')\n",
    "df5"
   ],
   "metadata": {
    "collapsed": false,
    "ExecuteTime": {
     "end_time": "2024-06-18T20:45:45.073040400Z",
     "start_time": "2024-06-18T20:45:45.000628200Z"
    }
   },
   "id": "1791bf1f2251b422",
   "execution_count": 136
  },
  {
   "cell_type": "code",
   "outputs": [
    {
     "data": {
      "text/plain": "<Figure size 1000x2000 with 9 Axes>",
      "image/png": "[encoded data removed]"
     },
     "metadata": {},
     "output_type": "display_data"
    }
   ],
   "source": [
    "rows    = 5\n",
    "columns = 2\n",
    "c       = 1 # Inicializar plot counter\n",
    "df5_objects = df5.select_dtypes(include=[np.int64])\n",
    "df5_objects\n",
    "\n",
    "fig = plt.figure(figsize=(10,20))\n",
    "for i in df5_objects.columns.values:\n",
    "\n",
    "    ax = plt.subplot(rows,columns,c)\n",
    "    pd.crosstab(df5[i],df5.event).plot(kind='bar',ax=ax)\n",
    "    plt.title('Freqence   {}'.format(i))\n",
    "    plt.ylabel('Freqence')\n",
    "    plt.xlabel('{}'.format(i))\n",
    "    plt.tight_layout(pad=4.0)\n",
    "    c = c + 1"
   ],
   "metadata": {
    "collapsed": false,
    "ExecuteTime": {
     "end_time": "2024-06-18T21:02:51.792097500Z",
     "start_time": "2024-06-18T21:02:46.657007400Z"
    }
   },
   "id": "9434f7a60c82c787",
   "execution_count": 152
  }
 ],
 "metadata": {
  "kernelspec": {
   "display_name": "Python 3",
   "language": "python",
   "name": "python3"
  },
  "language_info": {
   "codemirror_mode": {
    "name": "ipython",
    "version": 2
   },
   "file_extension": ".py",
   "mimetype": "text/x-python",
   "name": "python",
   "nbconvert_exporter": "python",
   "pygments_lexer": "ipython2",
   "version": "2.7.6"
  }
 },
 "nbformat": 4,
 "nbformat_minor": 5
}
