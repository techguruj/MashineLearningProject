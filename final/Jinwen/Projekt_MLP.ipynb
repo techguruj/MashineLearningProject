{
 "cells": [
  {
   "cell_type": "code",
   "execution_count": 1,
   "id": "initial_id",
   "metadata": {
    "collapsed": true,
    "ExecuteTime": {
     "end_time": "2024-06-20T12:26:46.529100400Z",
     "start_time": "2024-06-20T12:26:46.502056700Z"
    }
   },
   "outputs": [],
   "source": [
    "import pandas as pd\n",
    "import numpy as np\n",
    "import matplotlib.pyplot as plt"
   ]
  },
  {
   "cell_type": "code",
   "outputs": [
    {
     "data": {
      "text/plain": "        stag  event  gender   age  industry  profession  traffic  coach  \\\n0   7.030801      1       1  35.0         0           0        1      0   \n1  22.965092      1       1  33.0         0           0        1      0   \n2  15.934292      1       0  35.0         1           0        1      0   \n3  15.934292      1       0  35.0         1           0        1      0   \n4   8.410678      1       1  32.0         0           0        0      1   \n\n   head_gender  greywage  way  extraversion  independ  selfcontrol  anxiety  \\\n0            0         1    1           6.2       4.1          5.7      7.1   \n1            1         1    1           6.2       4.1          5.7      7.1   \n2            1         1    1           6.2       6.2          2.6      4.8   \n3            1         1    1           5.4       7.6          4.9      2.5   \n4            0         1    1           3.0       4.1          8.0      7.1   \n\n   novator  \n0      8.3  \n1      8.3  \n2      8.3  \n3      6.7  \n4      3.7  ",
      "text/html": "<div>\n<style scoped>\n    .dataframe tbody tr th:only-of-type {\n        vertical-align: middle;\n    }\n\n    .dataframe tbody tr th {\n        vertical-align: top;\n    }\n\n    .dataframe thead th {\n        text-align: right;\n    }\n</style>\n<table border=\"1\" class=\"dataframe\">\n  <thead>\n    <tr style=\"text-align: right;\">\n      <th></th>\n      <th>stag</th>\n      <th>event</th>\n      <th>gender</th>\n      <th>age</th>\n      <th>industry</th>\n      <th>profession</th>\n      <th>traffic</th>\n      <th>coach</th>\n      <th>head_gender</th>\n      <th>greywage</th>\n      <th>way</th>\n      <th>extraversion</th>\n      <th>independ</th>\n      <th>selfcontrol</th>\n      <th>anxiety</th>\n      <th>novator</th>\n    </tr>\n  </thead>\n  <tbody>\n    <tr>\n      <th>0</th>\n      <td>7.030801</td>\n      <td>1</td>\n      <td>1</td>\n      <td>35.0</td>\n      <td>0</td>\n      <td>0</td>\n      <td>1</td>\n      <td>0</td>\n      <td>0</td>\n      <td>1</td>\n      <td>1</td>\n      <td>6.2</td>\n      <td>4.1</td>\n      <td>5.7</td>\n      <td>7.1</td>\n      <td>8.3</td>\n    </tr>\n    <tr>\n      <th>1</th>\n      <td>22.965092</td>\n      <td>1</td>\n      <td>1</td>\n      <td>33.0</td>\n      <td>0</td>\n      <td>0</td>\n      <td>1</td>\n      <td>0</td>\n      <td>1</td>\n      <td>1</td>\n      <td>1</td>\n      <td>6.2</td>\n      <td>4.1</td>\n      <td>5.7</td>\n      <td>7.1</td>\n      <td>8.3</td>\n    </tr>\n    <tr>\n      <th>2</th>\n      <td>15.934292</td>\n      <td>1</td>\n      <td>0</td>\n      <td>35.0</td>\n      <td>1</td>\n      <td>0</td>\n      <td>1</td>\n      <td>0</td>\n      <td>1</td>\n      <td>1</td>\n      <td>1</td>\n      <td>6.2</td>\n      <td>6.2</td>\n      <td>2.6</td>\n      <td>4.8</td>\n      <td>8.3</td>\n    </tr>\n    <tr>\n      <th>3</th>\n      <td>15.934292</td>\n      <td>1</td>\n      <td>0</td>\n      <td>35.0</td>\n      <td>1</td>\n      <td>0</td>\n      <td>1</td>\n      <td>0</td>\n      <td>1</td>\n      <td>1</td>\n      <td>1</td>\n      <td>5.4</td>\n      <td>7.6</td>\n      <td>4.9</td>\n      <td>2.5</td>\n      <td>6.7</td>\n    </tr>\n    <tr>\n      <th>4</th>\n      <td>8.410678</td>\n      <td>1</td>\n      <td>1</td>\n      <td>32.0</td>\n      <td>0</td>\n      <td>0</td>\n      <td>0</td>\n      <td>1</td>\n      <td>0</td>\n      <td>1</td>\n      <td>1</td>\n      <td>3.0</td>\n      <td>4.1</td>\n      <td>8.0</td>\n      <td>7.1</td>\n      <td>3.7</td>\n    </tr>\n  </tbody>\n</table>\n</div>"
     },
     "execution_count": 2,
     "metadata": {},
     "output_type": "execute_result"
    }
   ],
   "source": [
    "file = pd.read_csv('df2_encoded.csv')\n",
    "df = pd.DataFrame(file)\n",
    "df.head()"
   ],
   "metadata": {
    "collapsed": false,
    "ExecuteTime": {
     "end_time": "2024-06-20T12:26:46.655046700Z",
     "start_time": "2024-06-20T12:26:46.527942400Z"
    }
   },
   "id": "8cff336dda8ad0ea",
   "execution_count": 2
  },
  {
   "cell_type": "markdown",
   "source": [
    "# 1.only with Traning date, no Scaling"
   ],
   "metadata": {
    "collapsed": false
   },
   "id": "ee9e01f87ea4d891"
  },
  {
   "cell_type": "code",
   "outputs": [
    {
     "name": "stdout",
     "output_type": "stream",
     "text": [
      "Confusion Matrix:\n",
      "[[290 156]\n",
      " [196 261]]\n"
     ]
    },
    {
     "data": {
      "text/plain": "<Figure size 200x100 with 2 Axes>",
      "image/png": "[encoded data removed]"
     },
     "metadata": {},
     "output_type": "display_data"
    },
    {
     "name": "stdout",
     "output_type": "stream",
     "text": [
      "Classification Report for Training Data:\n",
      "              precision    recall  f1-score   support\n",
      "\n",
      "           0       0.60      0.65      0.62       446\n",
      "           1       0.63      0.57      0.60       457\n",
      "\n",
      "    accuracy                           0.61       903\n",
      "   macro avg       0.61      0.61      0.61       903\n",
      "weighted avg       0.61      0.61      0.61       903\n",
      "\n",
      "Accuracy on Training Data: 0.6101882613510521\n",
      "Accuracy on Test Data: 0.5132743362831859\n"
     ]
    }
   ],
   "source": [
    "from sklearn.model_selection import train_test_split\n",
    "from sklearn.neural_network import MLPClassifier\n",
    "from sklearn.metrics import classification_report, confusion_matrix\n",
    "from sklearn.preprocessing import StandardScaler, MinMaxScaler\n",
    "from sklearn.metrics import confusion_matrix\n",
    "import seaborn as sns\n",
    "from sklearn.metrics import classification_report\n",
    "\n",
    "#  'event' is the target variable that we want to predict\n",
    "target = df['event']\n",
    "\n",
    "# Drop the target variable from the features\n",
    "features = df.drop('event', axis=1)\n",
    "\n",
    "# Split the data into training and testing sets\n",
    "X_train, X_test, y_train, y_test = train_test_split(features, target, test_size=0.2, random_state=42, stratify=target)\n",
    "\n",
    "\n",
    "\n",
    "# Initialize the mlp classifier\n",
    "mlp1 = MLPClassifier(hidden_layer_sizes=(15, ), random_state=42, max_iter=1000)\n",
    "\n",
    "# Fit the model on the training data\n",
    "mlp1.fit(X_train, y_train)\n",
    "\n",
    "\n",
    "# Make predictions on the training data\n",
    "train_predictions = mlp1.predict(X_train)\n",
    "\n",
    "# Calculate the confusion matrix\n",
    "conf_matrix = confusion_matrix(y_train, train_predictions)\n",
    "\n",
    "# Print the confusion matrix\n",
    "print(\"Confusion Matrix:\")\n",
    "print(conf_matrix)\n",
    "\n",
    "plt.figure(figsize=(2, 1))\n",
    "sns.heatmap(conf_matrix, annot=True, fmt='d', cmap='Blues')\n",
    "plt.xlabel('Predicted Label')\n",
    "plt.ylabel('True Label')\n",
    "plt.title('Confusion Matrix')\n",
    "plt.show()\n",
    "\n",
    "# Get the classification report for the training data\n",
    "class_report_train = classification_report(y_train, train_predictions)\n",
    "print(\"Classification Report for Training Data:\")\n",
    "print(class_report_train)\n",
    "\n",
    "# to see the accuracy score for the training data\n",
    "accuracy_score_train = mlp1.score(X_train, y_train)\n",
    "print(f\"Accuracy on Training Data: {accuracy_score_train}\")\n",
    "\n",
    "# Make predictions on the test data\n",
    "accuracy_score_test = mlp1.score(X_test, y_test)\n",
    "print(f\"Accuracy on Test Data: {accuracy_score_test}\")\n"
   ],
   "metadata": {
    "collapsed": false,
    "ExecuteTime": {
     "end_time": "2024-06-20T12:26:50.628560700Z",
     "start_time": "2024-06-20T12:26:46.667435400Z"
    }
   },
   "id": "885f2e9e4edc0457",
   "execution_count": 3
  },
  {
   "cell_type": "markdown",
   "source": [],
   "metadata": {
    "collapsed": false
   },
   "id": "42e3c994a8cc8db5"
  },
  {
   "cell_type": "markdown",
   "source": [
    "# 2.only with Traning date, with Standard Scaling"
   ],
   "metadata": {
    "collapsed": false
   },
   "id": "117c8f2845200c3d"
  },
  {
   "cell_type": "code",
   "outputs": [
    {
     "name": "stdout",
     "output_type": "stream",
     "text": [
      "Confusion Matrix2:\n",
      "[[340 106]\n",
      " [108 349]]\n",
      "Classification Report for Training Data:\n",
      "              precision    recall  f1-score   support\n",
      "\n",
      "           0       0.76      0.76      0.76       446\n",
      "           1       0.77      0.76      0.77       457\n",
      "\n",
      "    accuracy                           0.76       903\n",
      "   macro avg       0.76      0.76      0.76       903\n",
      "weighted avg       0.76      0.76      0.76       903\n",
      "\n",
      "Accuracy on Training Data: 0.7630121816168328\n",
      "Accuracy on Test Data: 0.6061946902654868\n"
     ]
    }
   ],
   "source": [
    "scalerS = StandardScaler()\n",
    "X_train2 = scalerS.fit_transform(X_train)\n",
    "X_test2 = scalerS.transform(X_test)\n",
    "# Initialize the mlp classifier\n",
    "mlp2 = MLPClassifier(hidden_layer_sizes=(15, ), random_state=42, max_iter=10000)\n",
    "\n",
    "# Fit the model on the training data\n",
    "mlp2.fit(X_train2, y_train)\n",
    "\n",
    "\n",
    "# Make predictions on the training data\n",
    "train_predictions2 = mlp2.predict(X_train2)\n",
    "\n",
    "# Calculate the confusion matrix\n",
    "conf_matrix2 = confusion_matrix(y_train, train_predictions2)\n",
    "\n",
    "# Print the confusion matrix\n",
    "print(\"Confusion Matrix2:\")\n",
    "print(conf_matrix2)\n",
    "\n",
    "\n",
    "# Get the classification report for the training data\n",
    "class_report_train2 = classification_report(y_train, train_predictions2)\n",
    "print(\"Classification Report for Training Data:\")\n",
    "print(class_report_train2)\n",
    "\n",
    "# If you want to see the accuracy score for the training data\n",
    "accuracy_score_train2 = mlp2.score(X_train2, y_train)\n",
    "print(f\"Accuracy on Training Data: {accuracy_score_train2}\")\n",
    "\n",
    "# Make predictions on the test data\n",
    "accuracy_score_test2 = mlp2.score(X_test2, y_test)\n",
    "print(f\"Accuracy on Test Data: {accuracy_score_test2}\")"
   ],
   "metadata": {
    "collapsed": false,
    "ExecuteTime": {
     "end_time": "2024-06-20T12:26:55.505689300Z",
     "start_time": "2024-06-20T12:26:50.634697300Z"
    }
   },
   "id": "2fd0fdead6435c8f",
   "execution_count": 4
  },
  {
   "cell_type": "markdown",
   "source": [
    "# 3.only with Traning date, with MinMax Scaling"
   ],
   "metadata": {
    "collapsed": false
   },
   "id": "36d79e5549d2d25d"
  },
  {
   "cell_type": "code",
   "outputs": [
    {
     "name": "stdout",
     "output_type": "stream",
     "text": [
      "Confusion Matrix3:\n",
      "[[297 149]\n",
      " [129 328]]\n",
      "Classification Report for Training Data:\n",
      "              precision    recall  f1-score   support\n",
      "\n",
      "           0       0.70      0.67      0.68       446\n",
      "           1       0.69      0.72      0.70       457\n",
      "\n",
      "    accuracy                           0.69       903\n",
      "   macro avg       0.69      0.69      0.69       903\n",
      "weighted avg       0.69      0.69      0.69       903\n",
      "\n",
      "Accuracy on Training Data: 0.6921373200442967\n",
      "Accuracy on Test Data: 0.584070796460177\n"
     ]
    }
   ],
   "source": [
    "scalerM = MinMaxScaler()\n",
    "X_train3 = scalerM.fit_transform(X_train)\n",
    "X_test3 = scalerM.transform(X_test)\n",
    "# Initialize the mlp classifier\n",
    "mlp3 = MLPClassifier(hidden_layer_sizes=(15, ), random_state=42, max_iter=1000)\n",
    "\n",
    "# Fit the model on the training data\n",
    "mlp3.fit(X_train3, y_train)\n",
    "\n",
    "\n",
    "# Make predictions on the training data\n",
    "train_predictions3 = mlp3.predict(X_train3)\n",
    "\n",
    "# Calculate the confusion matrix\n",
    "conf_matrix3 = confusion_matrix(y_train, train_predictions3)\n",
    "\n",
    "# Print the confusion matrix\n",
    "print(\"Confusion Matrix3:\")\n",
    "print(conf_matrix3)\n",
    "\n",
    "\n",
    "# Get the classification report for the training data\n",
    "class_report_train3 = classification_report(y_train, train_predictions3)\n",
    "print(\"Classification Report for Training Data:\")\n",
    "print(class_report_train3)\n",
    "\n",
    "# see the accuracy score for the training data\n",
    "accuracy_score_train3 = mlp3.score(X_train3, y_train)\n",
    "print(f\"Accuracy on Training Data: {accuracy_score_train3}\")\n",
    "\n",
    "# see the accuracy score for the test data\n",
    "accuracy_score_test3 = mlp3.score(X_test3, y_test)\n",
    "print(f\"Accuracy on Test Data: {accuracy_score_test3}\")"
   ],
   "metadata": {
    "collapsed": false,
    "ExecuteTime": {
     "end_time": "2024-06-20T12:27:00.162749300Z",
     "start_time": "2024-06-20T12:26:55.501536700Z"
    }
   },
   "id": "7c858309548235ec",
   "execution_count": 5
  },
  {
   "cell_type": "markdown",
   "source": [
    "# Fazit:Standard Scaling>MinMax Scaling>no Scaling"
   ],
   "metadata": {
    "collapsed": false
   },
   "id": "901dbca98f1db8ec"
  },
  {
   "cell_type": "markdown",
   "source": [
    "# here start with Cross_Val_Score (8 folder is best) with Standard Scaling"
   ],
   "metadata": {
    "collapsed": false
   },
   "id": "c83e02c9ab6f14fb"
  },
  {
   "cell_type": "code",
   "outputs": [
    {
     "name": "stdout",
     "output_type": "stream",
     "text": [
      "Mean accuracy for 2 folds: 0.555\n",
      "Standard deviation for 2 folds: 0.002\n",
      "**************************************************\n",
      "Mean accuracy for 3 folds: 0.525\n",
      "Standard deviation for 3 folds: 0.026\n",
      "**************************************************\n",
      "Mean accuracy for 4 folds: 0.550\n",
      "Standard deviation for 4 folds: 0.034\n",
      "**************************************************\n",
      "Mean accuracy for 5 folds: 0.543\n",
      "Standard deviation for 5 folds: 0.025\n",
      "**************************************************\n",
      "Mean accuracy for 6 folds: 0.557\n",
      "Standard deviation for 6 folds: 0.032\n",
      "**************************************************\n",
      "Mean accuracy for 7 folds: 0.576\n",
      "Standard deviation for 7 folds: 0.045\n",
      "**************************************************\n",
      "Mean accuracy for 8 folds: 0.568\n",
      "Standard deviation for 8 folds: 0.040\n",
      "**************************************************\n",
      "Mean accuracy for 9 folds: 0.543\n",
      "Standard deviation for 9 folds: 0.021\n",
      "**************************************************\n",
      "Mean accuracy for 10 folds: 0.560\n",
      "Standard deviation for 10 folds: 0.046\n",
      "**************************************************\n"
     ]
    }
   ],
   "source": [
    "from sklearn.model_selection import cross_val_score\n",
    "\n",
    "mlp4 = MLPClassifier(hidden_layer_sizes=(15, ), random_state=42, max_iter=10000)\n",
    "\n",
    "for i in range(2, 11):\n",
    "    scores = cross_val_score(mlp4, X_train2, y_train, cv=i, scoring='accuracy') # with Standard Scaling\n",
    "    mean_score = scores.mean()\n",
    "    std_dev = scores.std()\n",
    "    print(f\"Mean accuracy for {i} folds: {mean_score:.3f}\")\n",
    "    print(f\"Standard deviation for {i} folds: {std_dev:.3f}\")\n",
    "    print('*'*50)\n"
   ],
   "metadata": {
    "collapsed": false,
    "ExecuteTime": {
     "end_time": "2024-06-19T20:44:34.538634600Z",
     "start_time": "2024-06-19T20:42:39.485626500Z"
    }
   },
   "id": "c0b1972eaa2b9a58",
   "execution_count": 14
  },
  {
   "cell_type": "markdown",
   "source": [
    "# Here start with GridSearchCV with Standard Scaling"
   ],
   "metadata": {
    "collapsed": false
   },
   "id": "3a81fdda2328b60"
  },
  {
   "cell_type": "code",
   "outputs": [
    {
     "name": "stdout",
     "output_type": "stream",
     "text": [
      "Best parameters: {'activation': 'tanh', 'alpha': 0.0001, 'hidden_layer_sizes': (30,), 'learning_rate': 'constant', 'solver': 'adam'}\n",
      "Best cross-validation score: 0.5968992248062016\n"
     ]
    }
   ],
   "source": [
    "from sklearn.model_selection import GridSearchCV\n",
    "\n",
    "param_grid = {\n",
    "    'hidden_layer_sizes': [(15,), (30,), (15, 15),(30,30)],  # Different combinations of hidden layers\n",
    "    'activation': ['tanh', 'relu'],  # Different activation functions\n",
    "    'solver': ['adam', 'sgd'],  # Different optimization algorithms\n",
    "    'alpha': [0.0001, 0.001, 0.01],  # Regularization strength\n",
    "    'learning_rate': ['constant', 'invscaling', 'adaptive']  # Learning rate schedule\n",
    "    \n",
    "}\n",
    "\n",
    "# Initialize the mlp classifier\n",
    "mlp5 = MLPClassifier(max_iter=10000, learning_rate_init=0.01, random_state=42 ,tol=1e-3, early_stopping=True )\n",
    "\n",
    "# Initialize GridSearchCV with the classifier, parameter grid, and number of folds for cross-validation\n",
    "grid_search = GridSearchCV(estimator=mlp5, param_grid=param_grid, cv=7, scoring='accuracy')\n",
    "\n",
    "# Fit GridSearchCV to find the best parameters\n",
    "grid_search.fit(X_train2, y_train)\n",
    "\n",
    "# Get the best parameters\n",
    "best_params = grid_search.best_params_\n",
    "print(\"Best parameters:\", best_params)\n",
    "\n",
    "# Get the best score\n",
    "best_score = grid_search.best_score_\n",
    "print(\"Best cross-validation score:\", best_score)\n",
    "\n",
    "# The best model is also available\n",
    "best_mlp = grid_search.best_estimator_\n",
    "\n",
    "X_test2 = scalerS.transform(X_test) #Standard Scaling"
   ],
   "metadata": {
    "collapsed": false,
    "ExecuteTime": {
     "end_time": "2024-06-19T21:05:34.710203400Z",
     "start_time": "2024-06-19T21:03:33.919143300Z"
    }
   },
   "id": "f180230663b1a7f2",
   "execution_count": 20
  },
  {
   "cell_type": "code",
   "outputs": [
    {
     "name": "stdout",
     "output_type": "stream",
     "text": [
      "Confusion Matrix_best:\n",
      "[[69 43]\n",
      " [58 56]]\n",
      "Classification Report for Test Data:\n",
      "              precision    recall  f1-score   support\n",
      "\n",
      "           0       0.54      0.62      0.58       112\n",
      "           1       0.57      0.49      0.53       114\n",
      "\n",
      "    accuracy                           0.55       226\n",
      "   macro avg       0.55      0.55      0.55       226\n",
      "weighted avg       0.55      0.55      0.55       226\n",
      "\n",
      "Accuracy on Test Data: 0.5530973451327433\n"
     ]
    }
   ],
   "source": [
    "X_test2 = scalerS.fit_transform(X_test) #Standard Scaling\n",
    "\n",
    "# Make predictions on the test data\n",
    "predictions_best = best_mlp.predict(X_test2)\n",
    "\n",
    "# Calculate the confusion matrix\n",
    "conf_matrix_best = confusion_matrix(y_test, predictions_best)\n",
    "print(\"Confusion Matrix_best:\")\n",
    "print(conf_matrix_best)\n",
    "\n",
    "# Get the classification report for the test data\n",
    "class_report_best = classification_report(y_test, predictions_best)\n",
    "print(\"Classification Report for Test Data:\")\n",
    "print(class_report_best)\n",
    "\n",
    "# to see the accuracy score for the test data\n",
    "accuracy_score_best = best_mlp.score(X_test2, y_test)\n",
    "print(f\"Accuracy on Test Data: {accuracy_score_best}\")\n",
    "\n"
   ],
   "metadata": {
    "collapsed": false,
    "ExecuteTime": {
     "end_time": "2024-06-19T21:05:34.760498200Z",
     "start_time": "2024-06-19T21:05:34.719204700Z"
    }
   },
   "id": "e1549f944fda3d01",
   "execution_count": 21
  }
 ],
 "metadata": {
  "kernelspec": {
   "display_name": "Python 3",
   "language": "python",
   "name": "python3"
  },
  "language_info": {
   "codemirror_mode": {
    "name": "ipython",
    "version": 2
   },
   "file_extension": ".py",
   "mimetype": "text/x-python",
   "name": "python",
   "nbconvert_exporter": "python",
   "pygments_lexer": "ipython2",
   "version": "2.7.6"
  }
 },
 "nbformat": 4,
 "nbformat_minor": 5
}
