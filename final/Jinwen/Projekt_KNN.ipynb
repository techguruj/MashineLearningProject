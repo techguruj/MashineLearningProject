{
 "cells": [
  {
   "cell_type": "code",
   "execution_count": 1,
   "id": "initial_id",
   "metadata": {
    "collapsed": true,
    "ExecuteTime": {
     "end_time": "2024-06-20T08:41:55.831895Z",
     "start_time": "2024-06-20T08:41:55.787238100Z"
    }
   },
   "outputs": [],
   "source": [
    "import pandas as pd\n",
    "import numpy as np\n",
    "import matplotlib.pyplot as plt"
   ]
  },
  {
   "cell_type": "code",
   "outputs": [
    {
     "data": {
      "text/plain": "        stag  event  gender   age  industry  profession  traffic  coach  \\\n0   7.030801      1       1  35.0         0           0        1      0   \n1  22.965092      1       1  33.0         0           0        1      0   \n2  15.934292      1       0  35.0         1           0        1      0   \n3  15.934292      1       0  35.0         1           0        1      0   \n4   8.410678      1       1  32.0         0           0        0      1   \n\n   head_gender  greywage  way  extraversion  independ  selfcontrol  anxiety  \\\n0            0         1    1           6.2       4.1          5.7      7.1   \n1            1         1    1           6.2       4.1          5.7      7.1   \n2            1         1    1           6.2       6.2          2.6      4.8   \n3            1         1    1           5.4       7.6          4.9      2.5   \n4            0         1    1           3.0       4.1          8.0      7.1   \n\n   novator  \n0      8.3  \n1      8.3  \n2      8.3  \n3      6.7  \n4      3.7  ",
      "text/html": "<div>\n<style scoped>\n    .dataframe tbody tr th:only-of-type {\n        vertical-align: middle;\n    }\n\n    .dataframe tbody tr th {\n        vertical-align: top;\n    }\n\n    .dataframe thead th {\n        text-align: right;\n    }\n</style>\n<table border=\"1\" class=\"dataframe\">\n  <thead>\n    <tr style=\"text-align: right;\">\n      <th></th>\n      <th>stag</th>\n      <th>event</th>\n      <th>gender</th>\n      <th>age</th>\n      <th>industry</th>\n      <th>profession</th>\n      <th>traffic</th>\n      <th>coach</th>\n      <th>head_gender</th>\n      <th>greywage</th>\n      <th>way</th>\n      <th>extraversion</th>\n      <th>independ</th>\n      <th>selfcontrol</th>\n      <th>anxiety</th>\n      <th>novator</th>\n    </tr>\n  </thead>\n  <tbody>\n    <tr>\n      <th>0</th>\n      <td>7.030801</td>\n      <td>1</td>\n      <td>1</td>\n      <td>35.0</td>\n      <td>0</td>\n      <td>0</td>\n      <td>1</td>\n      <td>0</td>\n      <td>0</td>\n      <td>1</td>\n      <td>1</td>\n      <td>6.2</td>\n      <td>4.1</td>\n      <td>5.7</td>\n      <td>7.1</td>\n      <td>8.3</td>\n    </tr>\n    <tr>\n      <th>1</th>\n      <td>22.965092</td>\n      <td>1</td>\n      <td>1</td>\n      <td>33.0</td>\n      <td>0</td>\n      <td>0</td>\n      <td>1</td>\n      <td>0</td>\n      <td>1</td>\n      <td>1</td>\n      <td>1</td>\n      <td>6.2</td>\n      <td>4.1</td>\n      <td>5.7</td>\n      <td>7.1</td>\n      <td>8.3</td>\n    </tr>\n    <tr>\n      <th>2</th>\n      <td>15.934292</td>\n      <td>1</td>\n      <td>0</td>\n      <td>35.0</td>\n      <td>1</td>\n      <td>0</td>\n      <td>1</td>\n      <td>0</td>\n      <td>1</td>\n      <td>1</td>\n      <td>1</td>\n      <td>6.2</td>\n      <td>6.2</td>\n      <td>2.6</td>\n      <td>4.8</td>\n      <td>8.3</td>\n    </tr>\n    <tr>\n      <th>3</th>\n      <td>15.934292</td>\n      <td>1</td>\n      <td>0</td>\n      <td>35.0</td>\n      <td>1</td>\n      <td>0</td>\n      <td>1</td>\n      <td>0</td>\n      <td>1</td>\n      <td>1</td>\n      <td>1</td>\n      <td>5.4</td>\n      <td>7.6</td>\n      <td>4.9</td>\n      <td>2.5</td>\n      <td>6.7</td>\n    </tr>\n    <tr>\n      <th>4</th>\n      <td>8.410678</td>\n      <td>1</td>\n      <td>1</td>\n      <td>32.0</td>\n      <td>0</td>\n      <td>0</td>\n      <td>0</td>\n      <td>1</td>\n      <td>0</td>\n      <td>1</td>\n      <td>1</td>\n      <td>3.0</td>\n      <td>4.1</td>\n      <td>8.0</td>\n      <td>7.1</td>\n      <td>3.7</td>\n    </tr>\n  </tbody>\n</table>\n</div>"
     },
     "execution_count": 2,
     "metadata": {},
     "output_type": "execute_result"
    }
   ],
   "source": [
    "file = pd.read_csv('df2_encoded.csv')\n",
    "df = pd.DataFrame(file)\n",
    "df.head()"
   ],
   "metadata": {
    "collapsed": false,
    "ExecuteTime": {
     "end_time": "2024-06-20T08:41:56.103974400Z",
     "start_time": "2024-06-20T08:41:55.839004200Z"
    }
   },
   "id": "8cff336dda8ad0ea",
   "execution_count": 2
  },
  {
   "cell_type": "markdown",
   "source": [
    "# 1.only with Traning date, no Scaling"
   ],
   "metadata": {
    "collapsed": false
   },
   "id": "ee9e01f87ea4d891"
  },
  {
   "cell_type": "code",
   "outputs": [
    {
     "name": "stdout",
     "output_type": "stream",
     "text": [
      "Confusion Matrix:\n",
      "[[334 112]\n",
      " [121 336]]\n"
     ]
    },
    {
     "data": {
      "text/plain": "<Figure size 200x100 with 2 Axes>",
      "image/png": "[encoded data removed]"
     },
     "metadata": {},
     "output_type": "display_data"
    },
    {
     "name": "stdout",
     "output_type": "stream",
     "text": [
      "Classification Report for Training Data:\n",
      "              precision    recall  f1-score   support\n",
      "\n",
      "           0       0.73      0.75      0.74       446\n",
      "           1       0.75      0.74      0.74       457\n",
      "\n",
      "    accuracy                           0.74       903\n",
      "   macro avg       0.74      0.74      0.74       903\n",
      "weighted avg       0.74      0.74      0.74       903\n",
      "Accuracy on Training Data: 0.7419712070874862\n",
      "Accuracy on Test Data: 0.584070796460177\n"
     ]
    }
   ],
   "source": [
    "from sklearn.model_selection import train_test_split\n",
    "from sklearn.neighbors import KNeighborsClassifier\n",
    "from sklearn.metrics import classification_report, confusion_matrix\n",
    "from sklearn.preprocessing import StandardScaler, MinMaxScaler\n",
    "from sklearn.metrics import confusion_matrix\n",
    "import seaborn as sns\n",
    "from sklearn.metrics import classification_report\n",
    "\n",
    "#  'event' is the target variable that we want to predict\n",
    "target = df['event']\n",
    "\n",
    "# Drop the target variable from the features\n",
    "features = df.drop('event', axis=1)\n",
    "\n",
    "# Split the data into training and testing sets\n",
    "X_train, X_test, y_train, y_test = train_test_split(features, target, test_size=0.2, random_state=42, stratify=target)\n",
    "\n",
    "\n",
    "\n",
    "# Initialize the KNN classifier\n",
    "knn1 = KNeighborsClassifier(n_neighbors=5)\n",
    "\n",
    "# Fit the model on the training data\n",
    "knn1.fit(X_train, y_train)\n",
    "\n",
    "\n",
    "# Make predictions on the training data\n",
    "train_predictions = knn1.predict(X_train)\n",
    "\n",
    "# Calculate the confusion matrix\n",
    "conf_matrix = confusion_matrix(y_train, train_predictions)\n",
    "\n",
    "# Print the confusion matrix\n",
    "print(\"Confusion Matrix:\")\n",
    "print(conf_matrix)\n",
    "\n",
    "plt.figure(figsize=(2, 1))\n",
    "sns.heatmap(conf_matrix, annot=True, fmt='d', cmap='Blues')\n",
    "plt.xlabel('Predicted Label')\n",
    "plt.ylabel('True Label')\n",
    "plt.title('Confusion Matrix')\n",
    "plt.show()\n",
    "\n",
    "# Get the classification report for the training data\n",
    "class_report_train = classification_report(y_train, train_predictions)\n",
    "print(\"Classification Report for Training Data:\")\n",
    "print(class_report_train)\n",
    "\n",
    "# see the accuracy score for the training data\n",
    "accuracy_score_train = knn1.score(X_train, y_train)\n",
    "print(f\"Accuracy on Training Data: {accuracy_score_train}\")\n",
    "\n",
    "# see the accuracy score for the testing data\n",
    "accuracy_score_test = knn1.score(X_test, y_test)\n",
    "print(f\"Accuracy on Test Data: {accuracy_score_test}\")\n",
    "\n"
   ],
   "metadata": {
    "collapsed": false,
    "ExecuteTime": {
     "end_time": "2024-06-20T08:42:00.221433600Z",
     "start_time": "2024-06-20T08:41:56.147889500Z"
    }
   },
   "id": "885f2e9e4edc0457",
   "execution_count": 3
  },
  {
   "cell_type": "markdown",
   "source": [],
   "metadata": {
    "collapsed": false
   },
   "id": "42e3c994a8cc8db5"
  },
  {
   "cell_type": "markdown",
   "source": [
    "# 2.only with Traning date, with Standard Scaling"
   ],
   "metadata": {
    "collapsed": false
   },
   "id": "117c8f2845200c3d"
  },
  {
   "cell_type": "code",
   "outputs": [
    {
     "name": "stdout",
     "output_type": "stream",
     "text": [
      "Confusion Matrix2:\n",
      "[[323 123]\n",
      " [111 346]]\n",
      "Classification Report for Training Data:\n",
      "              precision    recall  f1-score   support\n",
      "\n",
      "           0       0.74      0.72      0.73       446\n",
      "           1       0.74      0.76      0.75       457\n",
      "\n",
      "    accuracy                           0.74       903\n",
      "   macro avg       0.74      0.74      0.74       903\n",
      "weighted avg       0.74      0.74      0.74       903\n",
      "\n",
      "Accuracy on Training Data: 0.7408637873754153\n",
      "Accuracy on Test Data: 0.588495575221239\n"
     ]
    }
   ],
   "source": [
    "scalerS = StandardScaler()\n",
    "X_train2 = scalerS.fit_transform(X_train)\n",
    "X_test2 = scalerS.fit_transform(X_test)\n",
    "# Initialize the KNN classifier\n",
    "knn2 = KNeighborsClassifier(n_neighbors=5)\n",
    "\n",
    "# Fit the model on the training data\n",
    "knn2.fit(X_train2, y_train)\n",
    "\n",
    "\n",
    "# Make predictions on the training data\n",
    "train_predictions2 = knn2.predict(X_train2)\n",
    "\n",
    "# Calculate the confusion matrix\n",
    "conf_matrix2 = confusion_matrix(y_train, train_predictions2)\n",
    "\n",
    "# Print the confusion matrix\n",
    "print(\"Confusion Matrix2:\")\n",
    "print(conf_matrix2)\n",
    "\n",
    "\n",
    "# Get the classification report for the training data\n",
    "class_report_train2 = classification_report(y_train, train_predictions2)\n",
    "print(\"Classification Report for Training Data:\")\n",
    "print(class_report_train2)\n",
    "\n",
    "#see the accuracy score for the training data\n",
    "accuracy_score_train2 = knn2.score(X_train2, y_train)\n",
    "print(f\"Accuracy on Training Data: {accuracy_score_train2}\")\n",
    "\n",
    "# see the accuracy score for the testing data\n",
    "accuracy_score_test2 = knn2.score(X_test2, y_test)\n",
    "print(f\"Accuracy on Test Data: {accuracy_score_test2}\")"
   ],
   "metadata": {
    "collapsed": false,
    "ExecuteTime": {
     "end_time": "2024-06-20T08:44:30.265562800Z",
     "start_time": "2024-06-20T08:44:29.867763100Z"
    }
   },
   "id": "2fd0fdead6435c8f",
   "execution_count": 4
  },
  {
   "cell_type": "markdown",
   "source": [
    "# 3.only with Traning date, with MinMax Scaling"
   ],
   "metadata": {
    "collapsed": false
   },
   "id": "36d79e5549d2d25d"
  },
  {
   "cell_type": "code",
   "outputs": [
    {
     "name": "stdout",
     "output_type": "stream",
     "text": [
      "Confusion Matrix3:\n",
      "[[308 138]\n",
      " [115 342]]\n",
      "Classification Report for Training Data:\n",
      "              precision    recall  f1-score   support\n",
      "\n",
      "           0       0.73      0.69      0.71       446\n",
      "           1       0.71      0.75      0.73       457\n",
      "\n",
      "    accuracy                           0.72       903\n",
      "   macro avg       0.72      0.72      0.72       903\n",
      "weighted avg       0.72      0.72      0.72       903\n",
      "\n",
      "Accuracy on Training Data: 0.7198228128460686\n",
      "Accuracy on Test Data: 0.6017699115044248\n"
     ]
    }
   ],
   "source": [
    "scalerM = MinMaxScaler()\n",
    "X_train3 = scalerM.fit_transform(X_train)\n",
    "X_test3 = scalerS.fit_transform(X_test)\n",
    "# Initialize the KNN classifier\n",
    "knn3 = KNeighborsClassifier(n_neighbors=5)\n",
    "\n",
    "# Fit the model on the training data\n",
    "knn3.fit(X_train3, y_train)\n",
    "\n",
    "\n",
    "# Make predictions on the training data\n",
    "train_predictions3 = knn3.predict(X_train3)\n",
    "\n",
    "# Calculate the confusion matrix\n",
    "conf_matrix3 = confusion_matrix(y_train, train_predictions3)\n",
    "\n",
    "# Print the confusion matrix\n",
    "print(\"Confusion Matrix3:\")\n",
    "print(conf_matrix3)\n",
    "\n",
    "\n",
    "# Get the classification report for the training data\n",
    "class_report_train3 = classification_report(y_train, train_predictions3)\n",
    "print(\"Classification Report for Training Data:\")\n",
    "print(class_report_train3)\n",
    "\n",
    "# If you want to see the accuracy score for the training data\n",
    "accuracy_score_train3 = knn3.score(X_train3, y_train)\n",
    "print(f\"Accuracy on Training Data: {accuracy_score_train3}\")\n",
    "\n",
    "# see the accuracy score for the testing data\n",
    "accuracy_score_test3 = knn3.score(X_test3, y_test)\n",
    "print(f\"Accuracy on Test Data: {accuracy_score_test3}\")"
   ],
   "metadata": {
    "collapsed": false,
    "ExecuteTime": {
     "end_time": "2024-06-20T08:45:41.235951500Z",
     "start_time": "2024-06-20T08:45:40.469787500Z"
    }
   },
   "id": "7c858309548235ec",
   "execution_count": 5
  },
  {
   "cell_type": "markdown",
   "source": [
    "# Fazit:no Scaling>Standard Scaling>MinMax Scaling"
   ],
   "metadata": {
    "collapsed": false
   },
   "id": "901dbca98f1db8ec"
  },
  {
   "cell_type": "markdown",
   "source": [
    "# here start with Cross_Val_Score (8 folder is best) no  Scaling"
   ],
   "metadata": {
    "collapsed": false
   },
   "id": "c83e02c9ab6f14fb"
  },
  {
   "cell_type": "code",
   "outputs": [
    {
     "name": "stdout",
     "output_type": "stream",
     "text": [
      "Mean accuracy for 2 folds: 0.577\n",
      "Standard deviation for 2 folds: 0.027\n",
      "**************************************************\n",
      "Mean accuracy for 3 folds: 0.570\n",
      "Standard deviation for 3 folds: 0.013\n",
      "**************************************************\n",
      "Mean accuracy for 4 folds: 0.565\n",
      "Standard deviation for 4 folds: 0.009\n",
      "**************************************************\n",
      "Mean accuracy for 5 folds: 0.567\n",
      "Standard deviation for 5 folds: 0.019\n",
      "**************************************************\n",
      "Mean accuracy for 6 folds: 0.579\n",
      "Standard deviation for 6 folds: 0.028\n",
      "**************************************************\n",
      "Mean accuracy for 7 folds: 0.580\n",
      "Standard deviation for 7 folds: 0.045\n",
      "**************************************************\n",
      "Mean accuracy for 8 folds: 0.580\n",
      "Standard deviation for 8 folds: 0.033\n",
      "**************************************************\n",
      "Mean accuracy for 9 folds: 0.573\n",
      "Standard deviation for 9 folds: 0.041\n",
      "**************************************************\n",
      "Mean accuracy for 10 folds: 0.574\n",
      "Standard deviation for 10 folds: 0.040\n",
      "**************************************************\n"
     ]
    }
   ],
   "source": [
    "from sklearn.model_selection import cross_val_score\n",
    "\n",
    "knn4 = KNeighborsClassifier(n_neighbors=5)\n",
    "\n",
    "for i in range(2, 11):\n",
    "    scores = cross_val_score(knn4, X_train, y_train, cv=i, scoring='accuracy') # no Scaling\n",
    "    mean_score = scores.mean()\n",
    "    std_dev = scores.std()\n",
    "    print(f\"Mean accuracy for {i} folds: {mean_score:.3f}\")\n",
    "    print(f\"Standard deviation for {i} folds: {std_dev:.3f}\")\n",
    "    print('*'*50)\n"
   ],
   "metadata": {
    "collapsed": false,
    "ExecuteTime": {
     "end_time": "2024-06-19T20:35:14.597404400Z",
     "start_time": "2024-06-19T20:35:12.838299100Z"
    }
   },
   "id": "c0b1972eaa2b9a58",
   "execution_count": 26
  },
  {
   "cell_type": "markdown",
   "source": [
    "# Here start with GridSearchCV no Scaling"
   ],
   "metadata": {
    "collapsed": false
   },
   "id": "3a81fdda2328b60"
  },
  {
   "cell_type": "code",
   "outputs": [
    {
     "name": "stdout",
     "output_type": "stream",
     "text": [
      "Best parameters: {'algorithm': 'auto', 'leaf_size': 10, 'metric': 'manhattan', 'n_neighbors': 5, 'weights': 'distance'}\n",
      "Best cross-validation score: 0.6367829487989886\n"
     ]
    }
   ],
   "source": [
    "from sklearn.model_selection import GridSearchCV\n",
    "\n",
    "param_grid = {\n",
    "    'n_neighbors': [3, 5, 7, 9],  # Possible values for n_neighbors\n",
    "    'weights': ['uniform', 'distance'],  # Possible weighting schemes\n",
    "    'metric': ['euclidean', 'manhattan'],  # Possible distance metrics\n",
    "    'algorithm': ['auto', 'ball_tree', 'kd_tree', 'brute'],  # Possible algorithms\n",
    "    'leaf_size': [10, 20, 30, 40, 50]  # Possible leaf sizes\n",
    "    \n",
    "}\n",
    "\n",
    "# Initialize the KNN classifier\n",
    "knn5 = KNeighborsClassifier()\n",
    "\n",
    "# Initialize GridSearchCV with the classifier, parameter grid, and number of folds for cross-validation\n",
    "grid_search = GridSearchCV(estimator=knn5, param_grid=param_grid, cv=8, scoring='accuracy')\n",
    "\n",
    "# Fit GridSearchCV to find the best parameters\n",
    "grid_search.fit(X_train, y_train)\n",
    "\n",
    "# Get the best parameters\n",
    "best_params = grid_search.best_params_\n",
    "print(\"Best parameters:\", best_params)\n",
    "\n",
    "# Get the best score\n",
    "best_score = grid_search.best_score_\n",
    "print(\"Best cross-validation score:\", best_score)\n",
    "\n",
    "# The best model is also available\n",
    "best_knn = grid_search.best_estimator_"
   ],
   "metadata": {
    "collapsed": false,
    "ExecuteTime": {
     "end_time": "2024-06-19T20:36:54.646914600Z",
     "start_time": "2024-06-19T20:35:14.603332800Z"
    }
   },
   "id": "f180230663b1a7f2",
   "execution_count": 27
  },
  {
   "cell_type": "code",
   "outputs": [
    {
     "name": "stdout",
     "output_type": "stream",
     "text": [
      "Confusion Matrix_best:\n",
      "[[81 31]\n",
      " [46 68]]\n",
      "Classification Report for Test Data:\n",
      "              precision    recall  f1-score   support\n",
      "\n",
      "           0       0.64      0.72      0.68       112\n",
      "           1       0.69      0.60      0.64       114\n",
      "\n",
      "    accuracy                           0.66       226\n",
      "   macro avg       0.66      0.66      0.66       226\n",
      "weighted avg       0.66      0.66      0.66       226\n",
      "\n",
      "Accuracy on Test Data: 0.6592920353982301\n"
     ]
    }
   ],
   "source": [
    "\n",
    "\n",
    "# Make predictions on the test data\n",
    "predictions_best = best_knn.predict(X_test)\n",
    "\n",
    "# Calculate the confusion matrix\n",
    "conf_matrix_best = confusion_matrix(y_test, predictions_best)\n",
    "print(\"Confusion Matrix_best:\")\n",
    "print(conf_matrix_best)\n",
    "\n",
    "# Get the classification report for the test data\n",
    "class_report_best = classification_report(y_test, predictions_best)\n",
    "print(\"Classification Report for Test Data:\")\n",
    "print(class_report_best)\n",
    "\n",
    "# to see the accuracy score for the test data\n",
    "accuracy_score_best = best_knn.score(X_test, y_test)\n",
    "print(f\"Accuracy on Test Data: {accuracy_score_best}\")\n",
    "\n"
   ],
   "metadata": {
    "collapsed": false,
    "ExecuteTime": {
     "end_time": "2024-06-19T20:36:54.704871700Z",
     "start_time": "2024-06-19T20:36:54.645877900Z"
    }
   },
   "id": "e1549f944fda3d01",
   "execution_count": 28
  }
 ],
 "metadata": {
  "kernelspec": {
   "display_name": "Python 3",
   "language": "python",
   "name": "python3"
  },
  "language_info": {
   "codemirror_mode": {
    "name": "ipython",
    "version": 2
   },
   "file_extension": ".py",
   "mimetype": "text/x-python",
   "name": "python",
   "nbconvert_exporter": "python",
   "pygments_lexer": "ipython2",
   "version": "2.7.6"
  }
 },
 "nbformat": 4,
 "nbformat_minor": 5
}
