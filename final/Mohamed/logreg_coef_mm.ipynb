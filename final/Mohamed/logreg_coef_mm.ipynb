{
 "cells": [
  {
   "cell_type": "code",
   "execution_count": 1,
   "id": "c7509793-5d0d-4656-81f1-4afab9adbfc8",
   "metadata": {},
   "outputs": [],
   "source": [
    "# Import necessary libraries\n",
    "import pandas as pd\n",
    "import numpy as np\n",
    "from sklearn.linear_model import LogisticRegression\n",
    "from sklearn.model_selection import train_test_split, GridSearchCV\n",
    "from sklearn.preprocessing import StandardScaler\n",
    "from sklearn.metrics import classification_report, confusion_matrix, accuracy_score\n",
    "from itertools import combinations\n",
    "import seaborn as sns\n",
    "import matplotlib.pyplot as plt\n"
   ]
  },
  {
   "cell_type": "code",
   "execution_count": 2,
   "id": "fa4c7f8e-b0cd-4269-a1bf-6977cd7bd7d5",
   "metadata": {},
   "outputs": [
    {
     "name": "stdout",
     "output_type": "stream",
     "text": [
      "              stag        event       gender          age     industry  \\\n",
      "count  1129.000000  1129.000000  1129.000000  1129.000000  1129.000000   \n",
      "mean     36.627526     0.505757     0.244464    31.066965     0.232950   \n",
      "std      34.096597     0.500188     0.429959     6.996147     0.422898   \n",
      "min       0.394251     0.000000     0.000000    18.000000     0.000000   \n",
      "25%      11.728953     0.000000     0.000000    26.000000     0.000000   \n",
      "50%      24.344969     1.000000     0.000000    30.000000     0.000000   \n",
      "75%      51.318275     1.000000     0.000000    36.000000     0.000000   \n",
      "max     179.449692     1.000000     1.000000    58.000000     1.000000   \n",
      "\n",
      "        profession      traffic        coach  head_gender     greywage  \\\n",
      "count  1129.000000  1129.000000  1129.000000  1129.000000  1129.000000   \n",
      "mean      0.108946     0.406554     0.395040     0.517272     0.887511   \n",
      "std       0.311709     0.491408     0.489076     0.499923     0.316107   \n",
      "min       0.000000     0.000000     0.000000     0.000000     0.000000   \n",
      "25%       0.000000     0.000000     0.000000     0.000000     1.000000   \n",
      "50%       0.000000     0.000000     0.000000     1.000000     1.000000   \n",
      "75%       0.000000     1.000000     1.000000     1.000000     1.000000   \n",
      "max       1.000000     1.000000     1.000000     1.000000     1.000000   \n",
      "\n",
      "               way  extraversion     independ  selfcontrol      anxiety  \\\n",
      "count  1129.000000   1129.000000  1129.000000  1129.000000  1129.000000   \n",
      "mean      1.189548      5.592383     5.478034     5.597254     5.665633   \n",
      "std       0.601001      1.851637     1.703312     1.980101     1.709176   \n",
      "min       0.000000      1.000000     1.000000     1.000000     1.700000   \n",
      "25%       1.000000      4.600000     4.100000     4.100000     4.800000   \n",
      "50%       1.000000      5.400000     5.500000     5.700000     5.600000   \n",
      "75%       2.000000      7.000000     6.900000     7.200000     7.100000   \n",
      "max       2.000000     10.000000    10.000000    10.000000    10.000000   \n",
      "\n",
      "           novator  \n",
      "count  1129.000000  \n",
      "mean      5.879628  \n",
      "std       1.904016  \n",
      "min       1.000000  \n",
      "25%       4.400000  \n",
      "50%       6.000000  \n",
      "75%       7.500000  \n",
      "max      10.000000  \n",
      "<class 'pandas.core.frame.DataFrame'>\n",
      "RangeIndex: 1129 entries, 0 to 1128\n",
      "Data columns (total 16 columns):\n",
      " #   Column        Non-Null Count  Dtype  \n",
      "---  ------        --------------  -----  \n",
      " 0   stag          1129 non-null   float64\n",
      " 1   event         1129 non-null   int64  \n",
      " 2   gender        1129 non-null   int64  \n",
      " 3   age           1129 non-null   float64\n",
      " 4   industry      1129 non-null   int64  \n",
      " 5   profession    1129 non-null   int64  \n",
      " 6   traffic       1129 non-null   int64  \n",
      " 7   coach         1129 non-null   int64  \n",
      " 8   head_gender   1129 non-null   int64  \n",
      " 9   greywage      1129 non-null   int64  \n",
      " 10  way           1129 non-null   int64  \n",
      " 11  extraversion  1129 non-null   float64\n",
      " 12  independ      1129 non-null   float64\n",
      " 13  selfcontrol   1129 non-null   float64\n",
      " 14  anxiety       1129 non-null   float64\n",
      " 15  novator       1129 non-null   float64\n",
      "dtypes: float64(7), int64(9)\n",
      "memory usage: 141.3 KB\n"
     ]
    }
   ],
   "source": [
    "\n",
    "# Load and describe data\n",
    "churn = pd.read_csv('df2_encoded.csv')\n",
    "df = pd.DataFrame(churn)\n",
    "print(df.describe(include='all'))\n",
    "#df.info()\n",
    "\n"
   ]
  },
  {
   "cell_type": "code",
   "execution_count": null,
   "id": "0777dc7c-caeb-49c7-8a5a-558f4d87547b",
   "metadata": {},
   "outputs": [],
   "source": []
  },
  {
   "cell_type": "code",
   "execution_count": 11,
   "id": "9d44015c-7103-4e64-8a82-8cba9d2d6e25",
   "metadata": {},
   "outputs": [
    {
     "name": "stderr",
     "output_type": "stream",
     "text": [
      "/var/folders/py/tv510k412ng5gn088wknlmfr0000gp/T/ipykernel_93356/2429442778.py:10: PerformanceWarning: DataFrame is highly fragmented.  This is usually the result of calling `frame.insert` many times, which has poor performance.  Consider joining all columns at once using pd.concat(axis=1) instead. To get a de-fragmented frame, use `newframe = frame.copy()`\n",
      "  interaction_df[new_col_name] = df[col1] * df[col2]\n",
      "/var/folders/py/tv510k412ng5gn088wknlmfr0000gp/T/ipykernel_93356/2429442778.py:10: PerformanceWarning: DataFrame is highly fragmented.  This is usually the result of calling `frame.insert` many times, which has poor performance.  Consider joining all columns at once using pd.concat(axis=1) instead. To get a de-fragmented frame, use `newframe = frame.copy()`\n",
      "  interaction_df[new_col_name] = df[col1] * df[col2]\n",
      "/var/folders/py/tv510k412ng5gn088wknlmfr0000gp/T/ipykernel_93356/2429442778.py:10: PerformanceWarning: DataFrame is highly fragmented.  This is usually the result of calling `frame.insert` many times, which has poor performance.  Consider joining all columns at once using pd.concat(axis=1) instead. To get a de-fragmented frame, use `newframe = frame.copy()`\n",
      "  interaction_df[new_col_name] = df[col1] * df[col2]\n",
      "/var/folders/py/tv510k412ng5gn088wknlmfr0000gp/T/ipykernel_93356/2429442778.py:10: PerformanceWarning: DataFrame is highly fragmented.  This is usually the result of calling `frame.insert` many times, which has poor performance.  Consider joining all columns at once using pd.concat(axis=1) instead. To get a de-fragmented frame, use `newframe = frame.copy()`\n",
      "  interaction_df[new_col_name] = df[col1] * df[col2]\n",
      "/var/folders/py/tv510k412ng5gn088wknlmfr0000gp/T/ipykernel_93356/2429442778.py:10: PerformanceWarning: DataFrame is highly fragmented.  This is usually the result of calling `frame.insert` many times, which has poor performance.  Consider joining all columns at once using pd.concat(axis=1) instead. To get a de-fragmented frame, use `newframe = frame.copy()`\n",
      "  interaction_df[new_col_name] = df[col1] * df[col2]\n"
     ]
    }
   ],
   "source": [
    "# Define target and features\n",
    "target = df['event']\n",
    "features = df.drop('event', axis=1)\n",
    "\n",
    "# Function to add interaction terms efficiently\n",
    "def add_interaction_terms(df, interaction_pairs):\n",
    "    interaction_df = pd.DataFrame(index=df.index)\n",
    "    for (col1, col2) in interaction_pairs:\n",
    "        new_col_name = f\"{col1}_{col2}\"\n",
    "        interaction_df[new_col_name] = df[col1] * df[col2]\n",
    "    return pd.concat([df, interaction_df], axis=1)\n",
    "\n",
    "# Create interaction pairs\n",
    "interaction_pairs = list(combinations(features.columns, 2))\n",
    "\n",
    "# Add interaction terms to the dataset\n",
    "features_with_interactions = add_interaction_terms(features.copy(), interaction_pairs)\n"
   ]
  },
  {
   "cell_type": "code",
   "execution_count": 24,
   "id": "64dfb887-3212-4183-a0aa-f4f3972b099d",
   "metadata": {},
   "outputs": [
    {
     "name": "stdout",
     "output_type": "stream",
     "text": [
      "Confusion Matrix (Training Data):\n",
      "[[306 144]\n",
      " [146 307]]\n"
     ]
    },
    {
     "data": {
      "image/png": "[encoded data removed]",
      "text/plain": [
       "<Figure size 500x300 with 2 Axes>"
      ]
     },
     "metadata": {},
     "output_type": "display_data"
    },
    {
     "name": "stdout",
     "output_type": "stream",
     "text": [
      "Classification Report for Training Data:\n",
      "              precision    recall  f1-score   support\n",
      "\n",
      "           0       0.68      0.68      0.68       450\n",
      "           1       0.68      0.68      0.68       453\n",
      "\n",
      "    accuracy                           0.68       903\n",
      "   macro avg       0.68      0.68      0.68       903\n",
      "weighted avg       0.68      0.68      0.68       903\n",
      "\n"
     ]
    }
   ],
   "source": [
    "# Split the data into training and testing sets\n",
    "X_train, X_test, y_train, y_test = train_test_split(features_with_interactions, target, test_size=0.2, random_state=42)\n",
    "\n",
    "# Standard Scaling\n",
    "scaler = StandardScaler()\n",
    "X_train_scaled = scaler.fit_transform(X_train)\n",
    "X_test_scaled = scaler.transform(X_test)\n",
    "\n",
    "# Initialize and fit the Logistic Regression model\n",
    "logreg = LogisticRegression(max_iter=1000, random_state=42, penalty='l2', solver='saga',C=1 )\n",
    "logreg.fit(X_train_scaled, y_train)\n",
    "\n",
    "# Predictions and Evaluation\n",
    "train_predictions = logreg.predict(X_train_scaled)\n",
    "test_predictions = logreg.predict(X_test_scaled)\n",
    "\n",
    "# Confusion Matrix and Classification Report for Training Data\n",
    "conf_matrix_train = confusion_matrix(y_train, train_predictions)\n",
    "print(\"Confusion Matrix (Training Data):\")\n",
    "print(conf_matrix_train)\n",
    "\n",
    "plt.figure(figsize=(5, 3))\n",
    "sns.heatmap(conf_matrix_train, annot=True, fmt='d', cmap='Blues')\n",
    "plt.xlabel('Predicted Label')\n",
    "plt.ylabel('True Label')\n",
    "plt.title('Confusion Matrix (Training Data)')\n",
    "plt.show()\n",
    "\n",
    "print(\"Classification Report for Training Data:\")\n",
    "print(classification_report(y_train, train_predictions))"
   ]
  },
  {
   "cell_type": "code",
   "execution_count": 25,
   "id": "c061afc4-389b-4088-8d4e-761d899bd5e5",
   "metadata": {},
   "outputs": [
    {
     "name": "stdout",
     "output_type": "stream",
     "text": [
      "Accuracy on Training Data: 0.6788482834994463\n",
      "Confusion Matrix (Testing Data):\n",
      "[[68 40]\n",
      " [45 73]]\n"
     ]
    },
    {
     "data": {
      "image/png": "[encoded data removed]",
      "text/plain": [
       "<Figure size 500x300 with 2 Axes>"
      ]
     },
     "metadata": {},
     "output_type": "display_data"
    }
   ],
   "source": [
    "# Accuracy Scores for Training Data\n",
    "accuracy_score_train = logreg.score(X_train_scaled, y_train)\n",
    "print(f\"Accuracy on Training Data: {accuracy_score_train}\")\n",
    "\n",
    "# Confusion Matrix and Classification Report for Testing Data\n",
    "conf_matrix_test = confusion_matrix(y_test, test_predictions)\n",
    "print(\"Confusion Matrix (Testing Data):\")\n",
    "print(conf_matrix_test)\n",
    "\n",
    "plt.figure(figsize=(5, 3))\n",
    "sns.heatmap(conf_matrix_test, annot=True, fmt='d', cmap='Blues')\n",
    "plt.xlabel('Predicted Label')\n",
    "plt.ylabel('True Label')\n",
    "plt.title('Confusion Matrix (Testing Data)')\n",
    "plt.show()\n"
   ]
  },
  {
   "cell_type": "code",
   "execution_count": 26,
   "id": "9ee0e6ac-710e-4b6a-8fa7-3d8d86b41feb",
   "metadata": {},
   "outputs": [
    {
     "name": "stdout",
     "output_type": "stream",
     "text": [
      "Classification Report for Testing Data:\n",
      "              precision    recall  f1-score   support\n",
      "\n",
      "           0       0.60      0.63      0.62       108\n",
      "           1       0.65      0.62      0.63       118\n",
      "\n",
      "    accuracy                           0.62       226\n",
      "   macro avg       0.62      0.62      0.62       226\n",
      "weighted avg       0.62      0.62      0.62       226\n",
      "\n",
      "Accuracy on Testing Data: 0.6238938053097345\n"
     ]
    }
   ],
   "source": [
    "print(\"Classification Report for Testing Data:\")\n",
    "print(classification_report(y_test, test_predictions))\n",
    "\n",
    "# Accuracy Scores for Testing Data\n",
    "accuracy_score_test = logreg.score(X_test_scaled, y_test)\n",
    "print(f\"Accuracy on Testing Data: {accuracy_score_test}\")\n"
   ]
  },
  {
   "cell_type": "code",
   "execution_count": 27,
   "id": "ff0f5652-685f-43b8-90db-aadcd2c88a9d",
   "metadata": {},
   "outputs": [
    {
     "name": "stdout",
     "output_type": "stream",
     "text": [
      "Best Hyperparameters: {'C': 1, 'penalty': 'l2', 'solver': 'liblinear'}\n"
     ]
    }
   ],
   "source": [
    "# Hyperparameter tuning using GridSearchCV with interaction terms\n",
    "param_grid = {\n",
    "    'C': [1, 10, 100],\n",
    "    'penalty': ['l1', 'l2'],\n",
    "    'solver': ['liblinear', 'saga']\n",
    "}\n",
    "\n",
    "# Create GridSearchCV object\n",
    "grid_search = GridSearchCV(LogisticRegression(max_iter=6000, random_state=42), param_grid, cv=3, scoring=['accuracy', 'recall', 'precision', 'f1'], refit='recall')\n",
    "\n",
    "# Fit the grid search to the data\n",
    "grid_search.fit(X_train_scaled, y_train)\n",
    "\n",
    "# Get the best hyperparameters\n",
    "best_params = grid_search.best_params_\n",
    "print(\"Best Hyperparameters:\", best_params)\n",
    "\n",
    "# Get the best model\n",
    "best_model = grid_search.best_estimator_\n"
   ]
  },
  {
   "cell_type": "code",
   "execution_count": 28,
   "id": "08e88729-578c-4b34-9d5a-89a4cd026e3d",
   "metadata": {},
   "outputs": [
    {
     "name": "stdout",
     "output_type": "stream",
     "text": [
      "Train Accuracy with Interaction Terms: 0.679\n",
      "Test Accuracy with Interaction Terms: 0.624\n"
     ]
    }
   ],
   "source": [
    "# Fit and evaluate the best model\n",
    "best_model.fit(X_train_scaled, y_train)\n",
    "print(f\"Train Accuracy with Interaction Terms: {best_model.score(X_train_scaled, y_train):.3f}\")\n",
    "print(f\"Test Accuracy with Interaction Terms: {best_model.score(X_test_scaled, y_test):.3f}\")\n",
    "\n"
   ]
  },
  {
   "cell_type": "code",
   "execution_count": 18,
   "id": "f6ec2ff1-bfae-468d-ac22-4b0ecc09bc38",
   "metadata": {},
   "outputs": [],
   "source": [
    "# Create a coefficient table from the best model\n",
    "def get_coefficient_table(model, feature_names):\n",
    "    coefficients = model.coef_.flatten()\n",
    "    coeff_df = pd.DataFrame({'Features': feature_names, 'Coefficients': coefficients})\n",
    "    return coeff_df\n",
    "\n",
    "coeff_table = get_coefficient_table(best_model, X_train.columns)\n",
    "#print(coeff_table)\n"
   ]
  },
  {
   "cell_type": "code",
   "execution_count": null,
   "id": "64c8c6a8-9789-4b17-804c-0f23cfd7eb05",
   "metadata": {},
   "outputs": [],
   "source": []
  }
 ],
 "metadata": {
  "kernelspec": {
   "display_name": "Python 3 (ipykernel)",
   "language": "python",
   "name": "python3"
  },
  "language_info": {
   "codemirror_mode": {
    "name": "ipython",
    "version": 3
   },
   "file_extension": ".py",
   "mimetype": "text/x-python",
   "name": "python",
   "nbconvert_exporter": "python",
   "pygments_lexer": "ipython3",
   "version": "3.11.7"
  }
 },
 "nbformat": 4,
 "nbformat_minor": 5
}
